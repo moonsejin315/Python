{
  "nbformat": 4,
  "nbformat_minor": 0,
  "metadata": {
    "colab": {
      "provenance": [],
      "include_colab_link": true
    },
    "kernelspec": {
      "name": "python3",
      "display_name": "Python 3"
    },
    "language_info": {
      "name": "python"
    }
  },
  "cells": [
    {
      "cell_type": "markdown",
      "metadata": {
        "id": "view-in-github",
        "colab_type": "text"
      },
      "source": [
        "<a href=\"https://colab.research.google.com/github/moonsejin315/Python/blob/main/LangChain/LangChain_04_%EB%9E%AD%EC%B2%B4%EC%9D%B8_%EA%B8%B0%EB%B0%98_%EC%B1%97%EB%B4%87_%EB%A7%8C%EB%93%A4%EA%B8%B0.ipynb\" target=\"_parent\"><img src=\"https://colab.research.google.com/assets/colab-badge.svg\" alt=\"Open In Colab\"/></a>"
      ]
    },
    {
      "cell_type": "code",
      "execution_count": null,
      "metadata": {
        "id": "WayZSHZfmls1"
      },
      "outputs": [],
      "source": [
        "!pip install -upgrade -quiet langchain-core langchain-community langchain-openai\n",
        "!pip install openai\n",
        "!pip install langchain\n",
        "!pip install langchain_openai"
      ]
    },
    {
      "cell_type": "code",
      "source": [
        "#튜플이나 리스트같은 '컬렉션타입' 데이터에서 원하는 인덱스의 요소를 추출하는 데 사용\n",
        "from operator import itemgetter\n",
        "\n",
        "#러너블 클래 : 함수를 감싸서 체인화 할 수 있게 해줌\n",
        "from langchain_core.runnables import RunnablePassthrough, RunnableLambda\n",
        "\n",
        "#Output(결과물)을 constent만 가져올 수 있도록 변환\n",
        "from langchain_core.output_parsers import StrOutputParser\n",
        "\n",
        "#특정한 대화 양식(템플릿)을 정의하여 쉽게 질의응답 할 수 있도록 해줌\n",
        "#우리가 나눈 대화를 관리하는 데 사용\n",
        "from langchain_core.prompts import ChatPromptTemplate, MessagesPlaceholder\n",
        "\n",
        "#openai와의 대화형 질의 응답\n",
        "from langchain_openai import ChatOpenAI\n",
        "\n",
        "#openai와 나눈 대화를 저장하고 관리하는데 사용하는 클래스\n",
        "#\"이전 대화를 기반으로\" 현재의 대화를 이끌어나가도록 함\n",
        "from langchain.memory import ConversationBufferWindowMemory"
      ],
      "metadata": {
        "id": "6i5dY6OhnMGP"
      },
      "execution_count": 26,
      "outputs": []
    },
    {
      "cell_type": "code",
      "source": [
        "import os\n",
        "from google.colab import userdata\n",
        "\n",
        "os.environ['OPENAI_API_KEY'] = userdata.get('OPENAI_API_KEY')"
      ],
      "metadata": {
        "id": "grX4PrhPn8qk"
      },
      "execution_count": 27,
      "outputs": []
    },
    {
      "cell_type": "markdown",
      "source": [
        "## 챗봇을 정의"
      ],
      "metadata": {
        "id": "KexfMC8apv7H"
      }
    },
    {
      "cell_type": "code",
      "source": [
        "system_prompt = \"\"\"\n",
        "  너는 나랑 친구인 상담사야.\n",
        "  내가 물어보는 질문에 대해서 친절하게 한국어로 답변해줘.\n",
        "\"\"\""
      ],
      "metadata": {
        "id": "Pl1jEiCRph3x"
      },
      "execution_count": 46,
      "outputs": []
    },
    {
      "cell_type": "code",
      "source": [
        "#리스트로 감싸서 튜플로 전달한다.\n",
        "chat_prompt_template = ChatPromptTemplate.from_messages([\n",
        "  (\"system\", system_prompt),\n",
        "  MessagesPlaceholder(variable_name=\"history\"),\n",
        "  (\"human\", \"{user_input}\")\n",
        "])\n",
        "\n",
        "#ConversationBufferWindowMemory는 몇 개(k)까지 기억할지 정해줄 수 있음\n",
        "#총 3개의 이전 대화 쌍을 기억함.\n",
        "memory = ConversationBufferWindowMemory(k=3, return_messages=True)"
      ],
      "metadata": {
        "id": "lBAnQtaSqJUu"
      },
      "execution_count": 47,
      "outputs": []
    },
    {
      "cell_type": "code",
      "source": [
        "chat_model = ChatOpenAI()\n",
        "output_parser = StrOutputParser()"
      ],
      "metadata": {
        "id": "Aiwg_gH9qoV-"
      },
      "execution_count": 48,
      "outputs": []
    },
    {
      "cell_type": "code",
      "source": [
        "chain = ({\"user_input\":RunnablePassthrough()} |\n",
        "        RunnablePassthrough.assign(history=RunnableLambda(memory.load_memory_variables) | itemgetter(\"history\"))\n",
        "        | chat_prompt_template\n",
        "        | chat_model\n",
        "        | output_parser)"
      ],
      "metadata": {
        "id": "WvuOH-bXreEA"
      },
      "execution_count": 53,
      "outputs": []
    },
    {
      "cell_type": "code",
      "source": [
        "def load_memory(_):\n",
        "  return memory.load_memory_variables(_)['history']"
      ],
      "metadata": {
        "id": "eV6P_tJdu10S"
      },
      "execution_count": 54,
      "outputs": []
    },
    {
      "cell_type": "code",
      "source": [
        "def chat_with_user(user_message):\n",
        "  ai_message = chain.invoke(user_message)\n",
        "\n",
        "  memory.save_context({\"input\":user_message}, {\"output\":ai_message})\n",
        "  print(memory.load_memory_variables({}))\n",
        "\n",
        "  return ai_message"
      ],
      "metadata": {
        "id": "zFoPJMQdsxqB"
      },
      "execution_count": 55,
      "outputs": []
    },
    {
      "cell_type": "code",
      "source": [
        "chat_with_user(\"안녕. 오늘 비 오는데 우산 챙겼니?\")"
      ],
      "metadata": {
        "colab": {
          "base_uri": "https://localhost:8080/",
          "height": 74
        },
        "id": "Qo-lG2I7t_Lf",
        "outputId": "f54dbada-7a45-4d86-80db-fea857d15bbb"
      },
      "execution_count": 56,
      "outputs": [
        {
          "output_type": "stream",
          "name": "stdout",
          "text": [
            "{'history': [HumanMessage(content='안녕. 오늘 비 오는데 우산 챙겼니?'), AIMessage(content='안녕. 비 오는 날 우산을 챙겼다면 좋겠네요. 비 오는 날 우산을 챙기지 않았다면 지금이라도 챙기는 것이 좋을 것 같아요. 혹시 우산을 챙겼는지 확인해보세요!')]}\n"
          ]
        },
        {
          "output_type": "execute_result",
          "data": {
            "text/plain": [
              "'안녕. 비 오는 날 우산을 챙겼다면 좋겠네요. 비 오는 날 우산을 챙기지 않았다면 지금이라도 챙기는 것이 좋을 것 같아요. 혹시 우산을 챙겼는지 확인해보세요!'"
            ],
            "application/vnd.google.colaboratory.intrinsic+json": {
              "type": "string"
            }
          },
          "metadata": {},
          "execution_count": 56
        }
      ]
    },
    {
      "cell_type": "code",
      "source": [
        "while True:\n",
        "  user_message = input(\"USER >>\")\n",
        "  if user_message == 'quit':\n",
        "    break\n",
        "  ai_message = chat_with_user(user_message)\n",
        "  print(f\"AI >>{ai_message}\")"
      ],
      "metadata": {
        "colab": {
          "base_uri": "https://localhost:8080/"
        },
        "id": "OsKoIm7CuZQY",
        "outputId": "da415e77-790a-4bcf-bb29-9119923ac665"
      },
      "execution_count": 58,
      "outputs": [
        {
          "name": "stdout",
          "output_type": "stream",
          "text": [
            "USER >>여행지 추천해줘\n",
            "{'history': [HumanMessage(content='안녕. 오늘 비 오는데 우산 챙겼니?'), AIMessage(content='안녕. 비 오는 날 우산을 챙겼다면 좋겠네요. 비 오는 날 우산을 챙기지 않았다면 지금이라도 챙기는 것이 좋을 것 같아요. 혹시 우산을 챙겼는지 확인해보세요!'), HumanMessage(content='심심한데 오늘 뭐 하면 좋을까?'), AIMessage(content='심심할 때 하는 것은 개인마다 다를 수 있지만, 몇 가지 추천해 드릴게요. \\n1. 취미 활동: 취미를 즐기는 것도 좋은 방법이에요. 음악 듣기, 그림 그리기, 책 읽기 등 자신의 취미에 집중해보세요.\\n2. 운동: 신체 활동은 마음의 휴식이 될 수 있어요. 집에서 요가나 스트레칭을 해보는 것도 좋은 방법이에요.\\n3. 요리: 새로운 요리를 도전해보는 것도 재미있을 수 있어요. 집에 있는 재료로 요리를 해보는 것은 즐거운 경험이 될 거예요.\\n이런 것들을 시도해보면서 오늘을 유익하고 즐겁게 보낼 수 있을 거에요.'), HumanMessage(content='여행지 추천해줘'), AIMessage(content='여행지를 추천해드릴 때 여러 가지 요소를 고려해야 하지만, 몇 가지 인기 있는 여행지를 추천해드릴게요.\\n1. 제주도: 한국에서 가장 인기 있는 여행지 중 하나로 자연 풍경과 맛있는 음식을 즐길 수 있어요. 한라산 등반이나 해변 산책을 즐길 수 있어요.\\n2. 부산: 바다와 산이 어우러진 부산은 맛있는 해산물과 풍부한 문화를 경험할 수 있는 도시에요. 해운대 해변이나 부산 타워를 방문해보세요.\\n3. 경주: 역사와 문화가 곁들어진 경주는 한국의 역사적인 도시로 유네스코 세계문화유산으로 등재되어 있어요. 석굴암이나 불국사를 방문해보세요.\\n이런 곳들을 방문하면 한국의 다양한 매력을 경험할 수 있을 거에요.')]}\n",
            "AI >>여행지를 추천해드릴 때 여러 가지 요소를 고려해야 하지만, 몇 가지 인기 있는 여행지를 추천해드릴게요.\n",
            "1. 제주도: 한국에서 가장 인기 있는 여행지 중 하나로 자연 풍경과 맛있는 음식을 즐길 수 있어요. 한라산 등반이나 해변 산책을 즐길 수 있어요.\n",
            "2. 부산: 바다와 산이 어우러진 부산은 맛있는 해산물과 풍부한 문화를 경험할 수 있는 도시에요. 해운대 해변이나 부산 타워를 방문해보세요.\n",
            "3. 경주: 역사와 문화가 곁들어진 경주는 한국의 역사적인 도시로 유네스코 세계문화유산으로 등재되어 있어요. 석굴암이나 불국사를 방문해보세요.\n",
            "이런 곳들을 방문하면 한국의 다양한 매력을 경험할 수 있을 거에요.\n",
            "USER >>제주도가면 어디 갈지 추천해줘\n",
            "{'history': [HumanMessage(content='심심한데 오늘 뭐 하면 좋을까?'), AIMessage(content='심심할 때 하는 것은 개인마다 다를 수 있지만, 몇 가지 추천해 드릴게요. \\n1. 취미 활동: 취미를 즐기는 것도 좋은 방법이에요. 음악 듣기, 그림 그리기, 책 읽기 등 자신의 취미에 집중해보세요.\\n2. 운동: 신체 활동은 마음의 휴식이 될 수 있어요. 집에서 요가나 스트레칭을 해보는 것도 좋은 방법이에요.\\n3. 요리: 새로운 요리를 도전해보는 것도 재미있을 수 있어요. 집에 있는 재료로 요리를 해보는 것은 즐거운 경험이 될 거예요.\\n이런 것들을 시도해보면서 오늘을 유익하고 즐겁게 보낼 수 있을 거에요.'), HumanMessage(content='여행지 추천해줘'), AIMessage(content='여행지를 추천해드릴 때 여러 가지 요소를 고려해야 하지만, 몇 가지 인기 있는 여행지를 추천해드릴게요.\\n1. 제주도: 한국에서 가장 인기 있는 여행지 중 하나로 자연 풍경과 맛있는 음식을 즐길 수 있어요. 한라산 등반이나 해변 산책을 즐길 수 있어요.\\n2. 부산: 바다와 산이 어우러진 부산은 맛있는 해산물과 풍부한 문화를 경험할 수 있는 도시에요. 해운대 해변이나 부산 타워를 방문해보세요.\\n3. 경주: 역사와 문화가 곁들어진 경주는 한국의 역사적인 도시로 유네스코 세계문화유산으로 등재되어 있어요. 석굴암이나 불국사를 방문해보세요.\\n이런 곳들을 방문하면 한국의 다양한 매력을 경험할 수 있을 거에요.'), HumanMessage(content='제주도가면 어디 갈지 추천해줘'), AIMessage(content='제주도에 가서 방문할 만한 곳 중 몇 가지를 추천해드릴게요.\\n1. 한라산: 제주도의 상징이자 가장 높은 산인 한라산은 등반을 즐기는 사람들에게 인기 있는 산이에요. 정상에서 바라보는 풍경은 정말 멋지답니다.\\n2. 성산일출봉: 제주도에서 가장 아름다운 일출을 볼 수 있는 곳으로 유명한 성산일출봉은 반드시 방문해보세요. 일출을 보는 것은 정말로 잊지 못할 경험이 될 거에요.\\n3. 용두암: 제주도의 바다를 한 눈에 볼 수 있는 용두암은 일몰을 감상하기 좋은 곳이에요. 바다를 향한 길목에서 일몰을 기다려보세요.\\n이런 곳들을 방문하면 제주도의 아름다운 자연과 풍경을 만끽할 수 있을 거에요.')]}\n",
            "AI >>제주도에 가서 방문할 만한 곳 중 몇 가지를 추천해드릴게요.\n",
            "1. 한라산: 제주도의 상징이자 가장 높은 산인 한라산은 등반을 즐기는 사람들에게 인기 있는 산이에요. 정상에서 바라보는 풍경은 정말 멋지답니다.\n",
            "2. 성산일출봉: 제주도에서 가장 아름다운 일출을 볼 수 있는 곳으로 유명한 성산일출봉은 반드시 방문해보세요. 일출을 보는 것은 정말로 잊지 못할 경험이 될 거에요.\n",
            "3. 용두암: 제주도의 바다를 한 눈에 볼 수 있는 용두암은 일몰을 감상하기 좋은 곳이에요. 바다를 향한 길목에서 일몰을 기다려보세요.\n",
            "이런 곳들을 방문하면 제주도의 아름다운 자연과 풍경을 만끽할 수 있을 거에요.\n",
            "USER >>비행기가 좋을까 배가 좋을까?\n",
            "{'history': [HumanMessage(content='여행지 추천해줘'), AIMessage(content='여행지를 추천해드릴 때 여러 가지 요소를 고려해야 하지만, 몇 가지 인기 있는 여행지를 추천해드릴게요.\\n1. 제주도: 한국에서 가장 인기 있는 여행지 중 하나로 자연 풍경과 맛있는 음식을 즐길 수 있어요. 한라산 등반이나 해변 산책을 즐길 수 있어요.\\n2. 부산: 바다와 산이 어우러진 부산은 맛있는 해산물과 풍부한 문화를 경험할 수 있는 도시에요. 해운대 해변이나 부산 타워를 방문해보세요.\\n3. 경주: 역사와 문화가 곁들어진 경주는 한국의 역사적인 도시로 유네스코 세계문화유산으로 등재되어 있어요. 석굴암이나 불국사를 방문해보세요.\\n이런 곳들을 방문하면 한국의 다양한 매력을 경험할 수 있을 거에요.'), HumanMessage(content='제주도가면 어디 갈지 추천해줘'), AIMessage(content='제주도에 가서 방문할 만한 곳 중 몇 가지를 추천해드릴게요.\\n1. 한라산: 제주도의 상징이자 가장 높은 산인 한라산은 등반을 즐기는 사람들에게 인기 있는 산이에요. 정상에서 바라보는 풍경은 정말 멋지답니다.\\n2. 성산일출봉: 제주도에서 가장 아름다운 일출을 볼 수 있는 곳으로 유명한 성산일출봉은 반드시 방문해보세요. 일출을 보는 것은 정말로 잊지 못할 경험이 될 거에요.\\n3. 용두암: 제주도의 바다를 한 눈에 볼 수 있는 용두암은 일몰을 감상하기 좋은 곳이에요. 바다를 향한 길목에서 일몰을 기다려보세요.\\n이런 곳들을 방문하면 제주도의 아름다운 자연과 풍경을 만끽할 수 있을 거에요.'), HumanMessage(content='비행기가 좋을까 배가 좋을까?'), AIMessage(content='비행기와 배는 여행 방법에 따라 장단점이 있어요. \\n1. 비행기:\\n- 빠르고 편리한 이동 수단입니다.\\n- 멀리 있는 곳으로 빠르게 이동할 수 있어요.\\n- 고도에서 바라보는 전망이 아름다워요.\\n2. 배:\\n- 바다를 품고 여행하는 로망을 즐길 수 있어요.\\n- 바다를 통해 도시의 전통적인 모습을 감상할 수 있어요.\\n- 바다를 여유롭게 즐길 수 있어요.\\n여행의 목적과 여건에 따라 선택하면 되는데, 시간이 촉박하거나 멀리 있는 곳으로 이동할 때는 비행기가 좋고, 풍경을 즐기며 여유롭게 여행하고 싶을 때는 배가 좋을 수 있어요.')]}\n",
            "AI >>비행기와 배는 여행 방법에 따라 장단점이 있어요. \n",
            "1. 비행기:\n",
            "- 빠르고 편리한 이동 수단입니다.\n",
            "- 멀리 있는 곳으로 빠르게 이동할 수 있어요.\n",
            "- 고도에서 바라보는 전망이 아름다워요.\n",
            "2. 배:\n",
            "- 바다를 품고 여행하는 로망을 즐길 수 있어요.\n",
            "- 바다를 통해 도시의 전통적인 모습을 감상할 수 있어요.\n",
            "- 바다를 여유롭게 즐길 수 있어요.\n",
            "여행의 목적과 여건에 따라 선택하면 되는데, 시간이 촉박하거나 멀리 있는 곳으로 이동할 때는 비행기가 좋고, 풍경을 즐기며 여유롭게 여행하고 싶을 때는 배가 좋을 수 있어요.\n",
            "USER >>내가 어디 가면 좋다했지?\n",
            "{'history': [HumanMessage(content='제주도가면 어디 갈지 추천해줘'), AIMessage(content='제주도에 가서 방문할 만한 곳 중 몇 가지를 추천해드릴게요.\\n1. 한라산: 제주도의 상징이자 가장 높은 산인 한라산은 등반을 즐기는 사람들에게 인기 있는 산이에요. 정상에서 바라보는 풍경은 정말 멋지답니다.\\n2. 성산일출봉: 제주도에서 가장 아름다운 일출을 볼 수 있는 곳으로 유명한 성산일출봉은 반드시 방문해보세요. 일출을 보는 것은 정말로 잊지 못할 경험이 될 거에요.\\n3. 용두암: 제주도의 바다를 한 눈에 볼 수 있는 용두암은 일몰을 감상하기 좋은 곳이에요. 바다를 향한 길목에서 일몰을 기다려보세요.\\n이런 곳들을 방문하면 제주도의 아름다운 자연과 풍경을 만끽할 수 있을 거에요.'), HumanMessage(content='비행기가 좋을까 배가 좋을까?'), AIMessage(content='비행기와 배는 여행 방법에 따라 장단점이 있어요. \\n1. 비행기:\\n- 빠르고 편리한 이동 수단입니다.\\n- 멀리 있는 곳으로 빠르게 이동할 수 있어요.\\n- 고도에서 바라보는 전망이 아름다워요.\\n2. 배:\\n- 바다를 품고 여행하는 로망을 즐길 수 있어요.\\n- 바다를 통해 도시의 전통적인 모습을 감상할 수 있어요.\\n- 바다를 여유롭게 즐길 수 있어요.\\n여행의 목적과 여건에 따라 선택하면 되는데, 시간이 촉박하거나 멀리 있는 곳으로 이동할 때는 비행기가 좋고, 풍경을 즐기며 여유롭게 여행하고 싶을 때는 배가 좋을 수 있어요.'), HumanMessage(content='내가 어디 가면 좋다했지?'), AIMessage(content='죄송해요, 이전에 여행지를 추천해줄 때 여행하고 싶은 곳을 명시하지 않으셨네요. 여행하고 싶은 곳이 있으면 알려주시면 해당 지역에 대해 더 자세히 알려드릴게요. 혹은 다른 궁금한 사항이 있으면 물어보세요. 도움이 되도록 최선을 다할게요.')]}\n",
            "AI >>죄송해요, 이전에 여행지를 추천해줄 때 여행하고 싶은 곳을 명시하지 않으셨네요. 여행하고 싶은 곳이 있으면 알려주시면 해당 지역에 대해 더 자세히 알려드릴게요. 혹은 다른 궁금한 사항이 있으면 물어보세요. 도움이 되도록 최선을 다할게요.\n",
            "USER >>quit\n"
          ]
        }
      ]
    },
    {
      "cell_type": "code",
      "source": [
        "!pip install gradio"
      ],
      "metadata": {
        "id": "MSgJYZ8X10ZO"
      },
      "execution_count": null,
      "outputs": []
    },
    {
      "cell_type": "code",
      "source": [
        "import gradio as gr\n",
        "\n",
        "import random\n",
        "import time\n",
        "\n",
        "def respond(user_message, chat_view):\n",
        "  ai_message = chat_with_user(user_message)\n",
        "  chat_view.append((user_message, ai_message))\n",
        "\n",
        "  time.sleep(1)\n",
        "  return \"\", chat_view\n",
        "\n",
        "with gr.Blocks() as demo:\n",
        "  chat_view = gr.Chatbot(label = \"채팅창\")\n",
        "\n",
        "  user_textbox = gr.Textbox(label = \"입력\")\n",
        "\n",
        "  user_textbox.submit(respond, [user_textbox, chat_view], [user_textbox, chat_view])\n",
        "demo.launch(share = True)"
      ],
      "metadata": {
        "colab": {
          "base_uri": "https://localhost:8080/",
          "height": 593
        },
        "id": "_Dvt6Y1x4xzu",
        "outputId": "e1ac053b-3829-49af-d7a5-dc94cd6b5171"
      },
      "execution_count": 60,
      "outputs": [
        {
          "output_type": "stream",
          "name": "stdout",
          "text": [
            "Colab notebook detected. To show errors in colab notebook, set debug=True in launch()\n",
            "Running on public URL: https://d277f1a69273a977c4.gradio.live\n",
            "\n",
            "This share link expires in 72 hours. For free permanent hosting and GPU upgrades, run `gradio deploy` from Terminal to deploy to Spaces (https://huggingface.co/spaces)\n"
          ]
        },
        {
          "output_type": "display_data",
          "data": {
            "text/plain": [
              "<IPython.core.display.HTML object>"
            ],
            "text/html": [
              "<div><iframe src=\"https://d277f1a69273a977c4.gradio.live\" width=\"100%\" height=\"500\" allow=\"autoplay; camera; microphone; clipboard-read; clipboard-write;\" frameborder=\"0\" allowfullscreen></iframe></div>"
            ]
          },
          "metadata": {}
        },
        {
          "output_type": "execute_result",
          "data": {
            "text/plain": []
          },
          "metadata": {},
          "execution_count": 60
        }
      ]
    },
    {
      "cell_type": "code",
      "source": [],
      "metadata": {
        "id": "wFxp8MVQ5spp"
      },
      "execution_count": null,
      "outputs": []
    }
  ]
}