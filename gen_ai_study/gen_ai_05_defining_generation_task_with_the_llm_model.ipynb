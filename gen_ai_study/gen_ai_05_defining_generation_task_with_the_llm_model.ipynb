{
  "nbformat": 4,
  "nbformat_minor": 0,
  "metadata": {
    "colab": {
      "provenance": [],
      "authorship_tag": "ABX9TyMQHQm7Z4Uz0An/TXeHgSLK",
      "include_colab_link": true
    },
    "kernelspec": {
      "name": "python3",
      "display_name": "Python 3"
    },
    "language_info": {
      "name": "python"
    }
  },
  "cells": [
    {
      "cell_type": "markdown",
      "metadata": {
        "id": "view-in-github",
        "colab_type": "text"
      },
      "source": [
        "<a href=\"https://colab.research.google.com/github/moonsejin315/Python/blob/main/gen_ai_study/gen_ai_05_defining_generation_task_with_the_llm_model.ipynb\" target=\"_parent\"><img src=\"https://colab.research.google.com/assets/colab-badge.svg\" alt=\"Open In Colab\"/></a>"
      ]
    },
    {
      "cell_type": "code",
      "execution_count": 1,
      "metadata": {
        "id": "t-NnaEY2YMTT"
      },
      "outputs": [],
      "source": [
        "# 기본 llm 함수\n",
        "\n",
        "# prompt > llm > respond\n",
        "# prompt : text\n",
        "# response : text\n",
        "\n",
        "def llm(prompt):\n",
        "  response = '감사합니다'\n",
        "  return response"
      ]
    },
    {
      "cell_type": "code",
      "source": [
        "# 텍스트 생성\n",
        "# >> 입력되는 텍스트에 대한 응답 생성\n",
        "# 예) 맛집 댓글에 대한 답글 생성\n",
        "\n",
        "def generate_reply(input_text):\n",
        "  output = llm(input_text)\n",
        "  return output"
      ],
      "metadata": {
        "id": "Fmk1z2IQYTI0"
      },
      "execution_count": 2,
      "outputs": []
    },
    {
      "cell_type": "code",
      "source": [
        "comments = [\n",
        "    \"여기 음식은 언제 와도 실망시키지 않아요. 최고!\",\n",
        "    \"여기 라멘 진짜 ㄹㅇ 맛있어요. 국물이 진하고 면도 쫄깃해서 너무 좋았습니다.\",\n",
        "    \"진짜 깔끔하고, 맛도 좋았어요. 추천합니다!\",\n",
        "    \"왜 이렇게 유명한지 모르겠음ㅋㅋ ㄹㅈㄷ 맛없음\",\n",
        "    \"인생 타르트를 여기서 만났어요❤️ 달지 않고 고소해서 정말 추천합니다!\",\n",
        "    \"메뉴 설명을 너무 친절하게 해주셔서 고르기 수월했어요.\",\n",
        "    \"사진과 음식이 너무 달라서 실망했습니다.\",\n",
        "    \"주변에 추천하려고 사진도 많이 찍었어요. 좋아요!\",\n",
        "    \"솔직히...? 맛이 그닥이에요. 리뷰랑 너무 다르네.\",\n",
        "    \"진짜 개꿀맛..ㅠ 다른곳 안가.\"\n",
        "]"
      ],
      "metadata": {
        "id": "ohCI22S7ZCvx"
      },
      "execution_count": 3,
      "outputs": []
    },
    {
      "cell_type": "code",
      "source": [
        "for comment in comments:\n",
        "  reply_comment = generate_reply(comment)\n",
        "  print(f\"댓글 : {comment}\")\n",
        "  print(f\"답글 : {reply_comment}\")\n",
        "  print(\"--\"*30)"
      ],
      "metadata": {
        "colab": {
          "base_uri": "https://localhost:8080/"
        },
        "id": "0enQD4gjZDXE",
        "outputId": "db92e37d-ef1b-4048-edfa-3ebdc6aca9d5"
      },
      "execution_count": 5,
      "outputs": [
        {
          "output_type": "stream",
          "name": "stdout",
          "text": [
            "댓글 : 여기 음식은 언제 와도 실망시키지 않아요. 최고!\n",
            "답글 : 감사합니다\n",
            "------------------------------------------------------------\n",
            "댓글 : 여기 라멘 진짜 ㄹㅇ 맛있어요. 국물이 진하고 면도 쫄깃해서 너무 좋았습니다.\n",
            "답글 : 감사합니다\n",
            "------------------------------------------------------------\n",
            "댓글 : 진짜 깔끔하고, 맛도 좋았어요. 추천합니다!\n",
            "답글 : 감사합니다\n",
            "------------------------------------------------------------\n",
            "댓글 : 왜 이렇게 유명한지 모르겠음ㅋㅋ ㄹㅈㄷ 맛없음\n",
            "답글 : 감사합니다\n",
            "------------------------------------------------------------\n",
            "댓글 : 인생 타르트를 여기서 만났어요❤️ 달지 않고 고소해서 정말 추천합니다!\n",
            "답글 : 감사합니다\n",
            "------------------------------------------------------------\n",
            "댓글 : 메뉴 설명을 너무 친절하게 해주셔서 고르기 수월했어요.\n",
            "답글 : 감사합니다\n",
            "------------------------------------------------------------\n",
            "댓글 : 사진과 음식이 너무 달라서 실망했습니다.\n",
            "답글 : 감사합니다\n",
            "------------------------------------------------------------\n",
            "댓글 : 주변에 추천하려고 사진도 많이 찍었어요. 좋아요!\n",
            "답글 : 감사합니다\n",
            "------------------------------------------------------------\n",
            "댓글 : 솔직히...? 맛이 그닥이에요. 리뷰랑 너무 다르네.\n",
            "답글 : 감사합니다\n",
            "------------------------------------------------------------\n",
            "댓글 : 진짜 개꿀맛..ㅠ 다른곳 안가.\n",
            "답글 : 감사합니다\n",
            "------------------------------------------------------------\n"
          ]
        }
      ]
    },
    {
      "cell_type": "markdown",
      "source": [
        "chat task"
      ],
      "metadata": {
        "id": "hHjEc4uKZc5r"
      }
    },
    {
      "cell_type": "code",
      "source": [
        "def llm(prompt):\n",
        "  response = '안녕하세요 무엇을 도와드릴까요?'\n",
        "  return response\n",
        "\n",
        "def chat_with_user(user_message):\n",
        "  ai_message = llm(user_message)\n",
        "  return ai_message\n",
        "\n",
        "while True:\n",
        "  user_message = input(\"user : \")\n",
        "  if user_message.lower() == 'quit':\n",
        "    break\n",
        "  ai_message = chat_with_user(user_message)\n",
        "  print(f\"ai : {ai_message}\")"
      ],
      "metadata": {
        "colab": {
          "base_uri": "https://localhost:8080/"
        },
        "id": "Oe6XkXKsZVTy",
        "outputId": "b4c1f456-868a-427a-f290-4d2dc2583cf1"
      },
      "execution_count": 6,
      "outputs": [
        {
          "name": "stdout",
          "output_type": "stream",
          "text": [
            "user : 안녕\n",
            "ai : 안녕하세요 무엇을 도와드릴까요?\n",
            "user : 뭐임뫄\n",
            "ai : 안녕하세요 무엇을 도와드릴까요?\n",
            "user : no\n",
            "ai : 안녕하세요 무엇을 도와드릴까요?\n",
            "user : hi\n",
            "ai : 안녕하세요 무엇을 도와드릴까요?\n",
            "user : quit\n"
          ]
        }
      ]
    },
    {
      "cell_type": "code",
      "source": [],
      "metadata": {
        "id": "rsrNSSWxaKdg"
      },
      "execution_count": null,
      "outputs": []
    }
  ]
}