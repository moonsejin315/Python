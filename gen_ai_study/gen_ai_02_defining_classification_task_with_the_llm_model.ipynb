{
  "nbformat": 4,
  "nbformat_minor": 0,
  "metadata": {
    "colab": {
      "provenance": [],
      "authorship_tag": "ABX9TyNs/9SHs5OseFjWKySye/hZ",
      "include_colab_link": true
    },
    "kernelspec": {
      "name": "python3",
      "display_name": "Python 3"
    },
    "language_info": {
      "name": "python"
    }
  },
  "cells": [
    {
      "cell_type": "markdown",
      "metadata": {
        "id": "view-in-github",
        "colab_type": "text"
      },
      "source": [
        "<a href=\"https://colab.research.google.com/github/moonsejin315/Python/blob/main/gen_ai_study/gen_ai_02_defining_classification_task_with_the_llm_model.ipynb\" target=\"_parent\"><img src=\"https://colab.research.google.com/assets/colab-badge.svg\" alt=\"Open In Colab\"/></a>"
      ]
    },
    {
      "cell_type": "code",
      "execution_count": 1,
      "metadata": {
        "id": "VXEJXzjYg2TU"
      },
      "outputs": [],
      "source": [
        "#기본 LLM 함수\n",
        "\n",
        "#prompt -> llm -> response\n",
        "#prompt : text\n",
        "#response : text\n",
        "\n",
        "def llm(prompt):\n",
        "  response = '안녕하세요! 어떻게 도와드릴까요?'\n",
        "  return response"
      ]
    },
    {
      "cell_type": "code",
      "source": [
        "llm('hi')"
      ],
      "metadata": {
        "colab": {
          "base_uri": "https://localhost:8080/",
          "height": 36
        },
        "id": "BiQ4ZxC0hcTh",
        "outputId": "38ebb50d-113c-44e1-f4e4-3be50701c451"
      },
      "execution_count": 2,
      "outputs": [
        {
          "output_type": "execute_result",
          "data": {
            "text/plain": [
              "'안녕하세요! 어떻게 도와드릴까요?'"
            ],
            "application/vnd.google.colaboratory.intrinsic+json": {
              "type": "string"
            }
          },
          "metadata": {},
          "execution_count": 2
        }
      ]
    },
    {
      "cell_type": "markdown",
      "source": [
        "긍정/부정 분류기 자동화"
      ],
      "metadata": {
        "id": "1ClMkcCyhliG"
      }
    },
    {
      "cell_type": "code",
      "source": [
        "def llm(prompt):\n",
        "  response = '긍정'\n",
        "  return response\n",
        "\n",
        "def classify_text(input_text):\n",
        "  #input_text 긍정 >> label = '긍정' or 1\n",
        "  #input_text 부정 >> label = '부정' or 0\n",
        "  label = llm(input_text)\n",
        "\n",
        "  if label == '긍정':\n",
        "    return 1\n",
        "  return 0"
      ],
      "metadata": {
        "id": "XUmkBX7Yhiks"
      },
      "execution_count": 3,
      "outputs": []
    },
    {
      "cell_type": "code",
      "source": [
        "comments = [\n",
        "    \"여기 음식은 언제 와도 실망시키지 않아요. 최고!\",\n",
        "    \"여기 라멘 진짜 ㄹㅇ 맛있어요. 국물이 진하고 면도 쫄깃해서 너무 좋았습니다.\",\n",
        "    \"진짜 깔끔하고, 맛도 좋았어요. 추천합니다!\",\n",
        "    \"왜 이렇게 유명한지 모르겠음ㅋㅋ ㄹㅈㄷ 맛없음\",\n",
        "    \"인생 타르트를 여기서 만났어요❤️ 달지 않고 고소해서 정말 추천합니다!\",\n",
        "    \"메뉴 설명을 너무 친절하게 해주셔서 고르기 수월했어요.\",\n",
        "    \"사진과 음식이 너무 달라서 실망했습니다.\",\n",
        "    \"주변에 추천하려고 사진도 많이 찍었어요. 좋아요!\",\n",
        "    \"솔직히...? 맛이 그닥이에요. 리뷰랑 너무 다르네.\",\n",
        "    \"진짜 개꿀맛..ㅠ 다른곳 안가.\"\n",
        "]"
      ],
      "metadata": {
        "id": "F5GPk6lliIRt"
      },
      "execution_count": 4,
      "outputs": []
    },
    {
      "cell_type": "code",
      "source": [
        "for comment in comments:\n",
        "  comment_class = classify_text(comment)\n",
        "\n",
        "  print(f\"댓글: {comment}\")\n",
        "  print(f\"긍정/부정 분류: {comment_class}\")"
      ],
      "metadata": {
        "colab": {
          "base_uri": "https://localhost:8080/"
        },
        "id": "3dxwkMmtiI1s",
        "outputId": "9f8ceb28-7e44-4416-a868-f85d20807ece"
      },
      "execution_count": 5,
      "outputs": [
        {
          "output_type": "stream",
          "name": "stdout",
          "text": [
            "댓글: 여기 음식은 언제 와도 실망시키지 않아요. 최고!\n",
            "긍정/부정 분류: 1\n",
            "댓글: 여기 라멘 진짜 ㄹㅇ 맛있어요. 국물이 진하고 면도 쫄깃해서 너무 좋았습니다.\n",
            "긍정/부정 분류: 1\n",
            "댓글: 진짜 깔끔하고, 맛도 좋았어요. 추천합니다!\n",
            "긍정/부정 분류: 1\n",
            "댓글: 왜 이렇게 유명한지 모르겠음ㅋㅋ ㄹㅈㄷ 맛없음\n",
            "긍정/부정 분류: 1\n",
            "댓글: 인생 타르트를 여기서 만났어요❤️ 달지 않고 고소해서 정말 추천합니다!\n",
            "긍정/부정 분류: 1\n",
            "댓글: 메뉴 설명을 너무 친절하게 해주셔서 고르기 수월했어요.\n",
            "긍정/부정 분류: 1\n",
            "댓글: 사진과 음식이 너무 달라서 실망했습니다.\n",
            "긍정/부정 분류: 1\n",
            "댓글: 주변에 추천하려고 사진도 많이 찍었어요. 좋아요!\n",
            "긍정/부정 분류: 1\n",
            "댓글: 솔직히...? 맛이 그닥이에요. 리뷰랑 너무 다르네.\n",
            "긍정/부정 분류: 1\n",
            "댓글: 진짜 개꿀맛..ㅠ 다른곳 안가.\n",
            "긍정/부정 분류: 1\n"
          ]
        }
      ]
    },
    {
      "cell_type": "code",
      "source": [],
      "metadata": {
        "id": "kNB6pe9eieXB"
      },
      "execution_count": null,
      "outputs": []
    }
  ]
}