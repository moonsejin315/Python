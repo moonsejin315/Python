{
 "cells": [
  {
   "cell_type": "code",
   "execution_count": 1,
   "id": "8b1fce66",
   "metadata": {},
   "outputs": [],
   "source": [
    "import pandas as pd\n",
    "import numpy as np\n",
    "import matplotlib.pyplot as plt"
   ]
  },
  {
   "cell_type": "code",
   "execution_count": 2,
   "id": "607dcd26",
   "metadata": {},
   "outputs": [],
   "source": [
    "#wine data 불러오기\n",
    "from sklearn.datasets import load_wine\n",
    "wine = load_wine()\n",
    "X = wine.data\n",
    "y = wine.target"
   ]
  },
  {
   "cell_type": "code",
   "execution_count": 3,
   "id": "08fcb90f",
   "metadata": {},
   "outputs": [],
   "source": [
    "#6가지 모델 정의\n",
    "from sklearn.model_selection import cross_val_score, cross_validate\n",
    "from sklearn.linear_model import LogisticRegression\n",
    "from sklearn.neighbors import KNeighborsClassifier\n",
    "from sklearn.svm import SVC\n",
    "from sklearn.tree import DecisionTreeClassifier\n",
    "from sklearn.ensemble import RandomForestClassifier, GradientBoostingClassifier\n",
    "\n",
    "models = [\n",
    "    ('Logistic Regression', LogisticRegression(max_iter=10000)),\n",
    "    ('K-Nearest Neighbors', KNeighborsClassifier()),\n",
    "    ('Support Vector Machine', SVC()),\n",
    "    ('Decision Tree', DecisionTreeClassifier()),\n",
    "    ('Random Forest', RandomForestClassifier()),\n",
    "    ('Gradient Boosting', GradientBoostingClassifier())\n",
    "]"
   ]
  },
  {
   "cell_type": "code",
   "execution_count": 4,
   "id": "020bb7d2",
   "metadata": {},
   "outputs": [],
   "source": [
    "# 평가 지표 설정\n",
    "from sklearn.metrics import accuracy_score, precision_score, recall_score, f1_score, make_scorer\n",
    "\n",
    "scoring = {\n",
    "    'accuracy': make_scorer(accuracy_score),\n",
    "    'precision': make_scorer(precision_score, average='macro'),\n",
    "    'recall': make_scorer(recall_score, average='macro'),\n",
    "    'f1': make_scorer(f1_score, average='macro')\n",
    "}"
   ]
  },
  {
   "cell_type": "markdown",
   "id": "08e431eb",
   "metadata": {},
   "source": [
    "## LogisticRegression"
   ]
  },
  {
   "cell_type": "code",
   "execution_count": 5,
   "id": "e516c64b",
   "metadata": {},
   "outputs": [
    {
     "name": "stdout",
     "output_type": "stream",
     "text": [
      "Logistic Regression\n",
      "Accuracy: 0.96\n",
      "Precision: 0.96\n",
      "Recall: 0.97\n",
      "F1-score: 0.96\n"
     ]
    }
   ],
   "source": [
    "model = LogisticRegression(max_iter=10000)\n",
    "cv_results = cross_validate(model, X, y, cv=5, scoring=scoring)\n",
    "print(\"Logistic Regression\")\n",
    "print(f\"Accuracy: {np.mean(cv_results['test_accuracy']):.2f}\")\n",
    "print(f\"Precision: {np.mean(cv_results['test_precision']):.2f}\")\n",
    "print(f\"Recall: {np.mean(cv_results['test_recall']):.2f}\")\n",
    "print(f\"F1-score: {np.mean(cv_results['test_f1']):.2f}\")"
   ]
  },
  {
   "cell_type": "markdown",
   "id": "be4e0133",
   "metadata": {},
   "source": [
    "## KNN"
   ]
  },
  {
   "cell_type": "code",
   "execution_count": 11,
   "id": "3988c3c8",
   "metadata": {},
   "outputs": [
    {
     "name": "stdout",
     "output_type": "stream",
     "text": [
      "K-Nearest Neighbors\n",
      "Accuracy: 0.69\n",
      "Precision: 0.68\n",
      "Recall: 0.68\n",
      "F1-score: 0.67\n"
     ]
    }
   ],
   "source": [
    "model = KNeighborsClassifier()\n",
    "cv_results = cross_validate(model, X, y, cv=5, scoring=scoring)\n",
    "print(\"K-Nearest Neighbors\")\n",
    "print(f\"Accuracy: {np.mean(cv_results['test_accuracy']):.2f}\")\n",
    "print(f\"Precision: {np.mean(cv_results['test_precision']):.2f}\")\n",
    "print(f\"Recall: {np.mean(cv_results['test_recall']):.2f}\")\n",
    "print(f\"F1-score: {np.mean(cv_results['test_f1']):.2f}\")"
   ]
  },
  {
   "cell_type": "markdown",
   "id": "de50c99e",
   "metadata": {},
   "source": [
    "## SVC"
   ]
  },
  {
   "cell_type": "code",
   "execution_count": 7,
   "id": "a7c0f7f6",
   "metadata": {
    "scrolled": false
   },
   "outputs": [
    {
     "name": "stdout",
     "output_type": "stream",
     "text": [
      "Support Vector Machine\n",
      "Accuracy: 0.66\n",
      "Precision: 0.60\n",
      "Recall: 0.63\n",
      "F1-score: 0.60\n"
     ]
    },
    {
     "name": "stderr",
     "output_type": "stream",
     "text": [
      "/Users/sejinmoon/anaconda3/lib/python3.11/site-packages/sklearn/metrics/_classification.py:1509: UndefinedMetricWarning: Precision is ill-defined and being set to 0.0 in labels with no predicted samples. Use `zero_division` parameter to control this behavior.\n",
      "  _warn_prf(average, modifier, f\"{metric.capitalize()} is\", len(result))\n"
     ]
    }
   ],
   "source": [
    "model = SVC()\n",
    "cv_results = cross_validate(model, X, y, cv=5, scoring=scoring)\n",
    "print(\"Support Vector Machine\")\n",
    "print(f\"Accuracy: {np.mean(cv_results['test_accuracy']):.2f}\")\n",
    "print(f\"Precision: {np.mean(cv_results['test_precision']):.2f}\")\n",
    "print(f\"Recall: {np.mean(cv_results['test_recall']):.2f}\")\n",
    "print(f\"F1-score: {np.mean(cv_results['test_f1']):.2f}\")"
   ]
  },
  {
   "cell_type": "markdown",
   "id": "511a9c11",
   "metadata": {},
   "source": [
    "## Decision Tree"
   ]
  },
  {
   "cell_type": "code",
   "execution_count": 8,
   "id": "fe310bd9",
   "metadata": {},
   "outputs": [
    {
     "name": "stdout",
     "output_type": "stream",
     "text": [
      "Decision Tree\n",
      "Accuracy: 0.88\n",
      "Precision: 0.88\n",
      "Recall: 0.88\n",
      "F1-score: 0.87\n"
     ]
    }
   ],
   "source": [
    "model = DecisionTreeClassifier()\n",
    "cv_results = cross_validate(model, X, y, cv=5, scoring=scoring)\n",
    "print(\"Decision Tree\")\n",
    "print(f\"Accuracy: {np.mean(cv_results['test_accuracy']):.2f}\")\n",
    "print(f\"Precision: {np.mean(cv_results['test_precision']):.2f}\")\n",
    "print(f\"Recall: {np.mean(cv_results['test_recall']):.2f}\")\n",
    "print(f\"F1-score: {np.mean(cv_results['test_f1']):.2f}\")"
   ]
  },
  {
   "cell_type": "markdown",
   "id": "baa40c71",
   "metadata": {},
   "source": [
    "## Random Forest"
   ]
  },
  {
   "cell_type": "code",
   "execution_count": 9,
   "id": "69b35e1f",
   "metadata": {
    "scrolled": true
   },
   "outputs": [
    {
     "name": "stdout",
     "output_type": "stream",
     "text": [
      "Random Forest\n",
      "2Accuracy: 0.97\n",
      "2Precision: 0.97\n",
      "2Recall: 0.98\n",
      "2F1-score: 0.97\n"
     ]
    }
   ],
   "source": [
    "model = RandomForestClassifier()\n",
    "cv_results = cross_validate(model, X, y, cv=5, scoring=scoring)\n",
    "print(\"Random Forest\")\n",
    "print(f\"2Accuracy: {np.mean(cv_results['test_accuracy']):.2f}\")\n",
    "print(f\"2Precision: {np.mean(cv_results['test_precision']):.2f}\")\n",
    "print(f\"2Recall: {np.mean(cv_results['test_recall']):.2f}\")\n",
    "print(f\"2F1-score: {np.mean(cv_results['test_f1']):.2f}\")"
   ]
  },
  {
   "cell_type": "markdown",
   "id": "f7eeace5",
   "metadata": {},
   "source": [
    "## Gradient Boosting"
   ]
  },
  {
   "cell_type": "code",
   "execution_count": 10,
   "id": "8452d9a3",
   "metadata": {
    "scrolled": true
   },
   "outputs": [
    {
     "name": "stdout",
     "output_type": "stream",
     "text": [
      "Gradient Boosting\n",
      "Accuracy: 0.94\n",
      "Precision: 0.95\n",
      "Recall: 0.94\n",
      "F1-score: 0.94\n"
     ]
    }
   ],
   "source": [
    "model = GradientBoostingClassifier()\n",
    "cv_results = cross_validate(model, X, y, cv=5, scoring=scoring)\n",
    "print(\"Gradient Boosting\")\n",
    "print(f\"Accuracy: {np.mean(cv_results['test_accuracy']):.2f}\")\n",
    "print(f\"Precision: {np.mean(cv_results['test_precision']):.2f}\")\n",
    "print(f\"Recall: {np.mean(cv_results['test_recall']):.2f}\")\n",
    "print(f\"F1-score: {np.mean(cv_results['test_f1']):.2f}\")"
   ]
  },
  {
   "cell_type": "markdown",
   "id": "f323a29d",
   "metadata": {},
   "source": [
    "## 최고 성능은 Random Forest로 여러 번 수행"
   ]
  },
  {
   "cell_type": "code",
   "execution_count": 16,
   "id": "94333225",
   "metadata": {},
   "outputs": [
    {
     "name": "stdout",
     "output_type": "stream",
     "text": [
      "Random Forest\n",
      "Accuracy: 0.99\n",
      "Precision: 0.99\n",
      "Recall: 0.99\n",
      "F1-score: 0.99\n",
      "\n",
      "Random Forest\n",
      "Accuracy: 0.97\n",
      "Precision: 0.97\n",
      "Recall: 0.98\n",
      "F1-score: 0.97\n",
      "\n",
      "Random Forest\n",
      "Accuracy: 0.98\n",
      "Precision: 0.98\n",
      "Recall: 0.98\n",
      "F1-score: 0.98\n",
      "\n",
      "Random Forest\n",
      "Accuracy: 0.98\n",
      "Precision: 0.98\n",
      "Recall: 0.98\n",
      "F1-score: 0.98\n",
      "\n",
      "Random Forest\n",
      "Accuracy: 0.98\n",
      "Precision: 0.98\n",
      "Recall: 0.98\n",
      "F1-score: 0.98\n",
      "\n",
      "Random Forest\n",
      "Accuracy: 0.98\n",
      "Precision: 0.99\n",
      "Recall: 0.98\n",
      "F1-score: 0.98\n",
      "\n",
      "Random Forest\n",
      "Accuracy: 0.99\n",
      "Precision: 0.99\n",
      "Recall: 0.99\n",
      "F1-score: 0.99\n",
      "\n",
      "Random Forest\n",
      "Accuracy: 0.98\n",
      "Precision: 0.99\n",
      "Recall: 0.98\n",
      "F1-score: 0.98\n",
      "\n",
      "Random Forest\n",
      "Accuracy: 0.98\n",
      "Precision: 0.99\n",
      "Recall: 0.99\n",
      "F1-score: 0.98\n",
      "\n",
      "Random Forest\n",
      "Accuracy: 0.99\n",
      "Precision: 0.99\n",
      "Recall: 0.99\n",
      "F1-score: 0.99\n",
      "\n",
      "Random Forest\n",
      "Accuracy: 0.97\n",
      "Precision: 0.97\n",
      "Recall: 0.97\n",
      "F1-score: 0.97\n",
      "\n",
      "Random Forest\n",
      "Accuracy: 0.97\n",
      "Precision: 0.97\n",
      "Recall: 0.97\n",
      "F1-score: 0.97\n",
      "\n",
      "Random Forest\n",
      "Accuracy: 0.98\n",
      "Precision: 0.98\n",
      "Recall: 0.98\n",
      "F1-score: 0.98\n",
      "\n",
      "Random Forest\n",
      "Accuracy: 0.97\n",
      "Precision: 0.98\n",
      "Recall: 0.97\n",
      "F1-score: 0.97\n",
      "\n",
      "Random Forest\n",
      "Accuracy: 0.98\n",
      "Precision: 0.98\n",
      "Recall: 0.99\n",
      "F1-score: 0.98\n",
      "\n"
     ]
    }
   ],
   "source": [
    "model = RandomForestClassifier()\n",
    "\n",
    "for i in range(6,21):\n",
    "    cv_results = cross_validate(model, X, y, cv=i, scoring=scoring)\n",
    "    print(\"Random Forest\")\n",
    "    print(f\"Accuracy: {np.mean(cv_results['test_accuracy']):.2f}\")\n",
    "    print(f\"Precision: {np.mean(cv_results['test_precision']):.2f}\")\n",
    "    print(f\"Recall: {np.mean(cv_results['test_recall']):.2f}\")\n",
    "    print(f\"F1-score: {np.mean(cv_results['test_f1']):.2f}\")\n",
    "    print()"
   ]
  },
  {
   "cell_type": "code",
   "execution_count": null,
   "id": "abfc0de9",
   "metadata": {},
   "outputs": [],
   "source": []
  }
 ],
 "metadata": {
  "kernelspec": {
   "display_name": "Python 3 (ipykernel)",
   "language": "python",
   "name": "python3"
  },
  "language_info": {
   "codemirror_mode": {
    "name": "ipython",
    "version": 3
   },
   "file_extension": ".py",
   "mimetype": "text/x-python",
   "name": "python",
   "nbconvert_exporter": "python",
   "pygments_lexer": "ipython3",
   "version": "3.11.5"
  }
 },
 "nbformat": 4,
 "nbformat_minor": 5
}
