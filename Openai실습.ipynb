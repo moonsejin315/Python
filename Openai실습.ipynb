{
  "nbformat": 4,
  "nbformat_minor": 0,
  "metadata": {
    "colab": {
      "provenance": [],
      "authorship_tag": "ABX9TyMldJxrS8QCtNKT6xPmmIMa",
      "include_colab_link": true
    },
    "kernelspec": {
      "name": "python3",
      "display_name": "Python 3"
    },
    "language_info": {
      "name": "python"
    }
  },
  "cells": [
    {
      "cell_type": "markdown",
      "metadata": {
        "id": "view-in-github",
        "colab_type": "text"
      },
      "source": [
        "<a href=\"https://colab.research.google.com/github/moonsejin315/Python/blob/main/Openai%EC%8B%A4%EC%8A%B5.ipynb\" target=\"_parent\"><img src=\"https://colab.research.google.com/assets/colab-badge.svg\" alt=\"Open In Colab\"/></a>"
      ]
    },
    {
      "cell_type": "code",
      "source": [
        "import openai"
      ],
      "metadata": {
        "id": "ImkdCVawjV4y"
      },
      "execution_count": 5,
      "outputs": []
    },
    {
      "cell_type": "code",
      "source": [
        "openai.api_key = OPEN_AI_KEY\n",
        "model = \"gpt-4o\""
      ],
      "metadata": {
        "id": "JHBT6PYWjchC"
      },
      "execution_count": 7,
      "outputs": []
    },
    {
      "cell_type": "code",
      "source": [
        "# 질문 작성하기\n",
        "query =\"프랑스의 수도를 알려줘.\"\n",
        "# 메시지 설정하기\n",
        "messages = [{\n",
        "\"role\": \"user\",\n",
        "\"content\": query\n",
        "}]"
      ],
      "metadata": {
        "id": "Y0PsTtIjjmNQ"
      },
      "execution_count": 9,
      "outputs": []
    },
    {
      "cell_type": "code",
      "source": [
        "# ChatGPT API를 이용한 ChatGPT 사용하기\n",
        "response = openai.ChatCompletion.create(model=model,messages=messages)\n",
        "answer = response.choices[0].message.content\n",
        "print(answer)"
      ],
      "metadata": {
        "colab": {
          "base_uri": "https://localhost:8080/"
        },
        "id": "uxwYzXnBkEOG",
        "outputId": "03e9edf3-0056-482a-8e0c-ca77899deaac"
      },
      "execution_count": 13,
      "outputs": [
        {
          "output_type": "stream",
          "name": "stdout",
          "text": [
            "프랑스의 수도는 파리입니다.\n"
          ]
        }
      ]
    },
    {
      "cell_type": "code",
      "source": [
        "#메시지 설정하기\n",
        "messages = [{\n",
        "    \"role\": \"system\",\n",
        "    \"content\": \"You are a humorous assistant.\"\n",
        "}, {\n",
        "    \"role\": \"user\",\n",
        "    \"content\": query\n",
        "}]"
      ],
      "metadata": {
        "id": "OtOAwru_kNZS"
      },
      "execution_count": 14,
      "outputs": []
    },
    {
      "cell_type": "code",
      "source": [
        "# ChatGPT API를 이용한 ChatGPT 사용하기\n",
        "response = openai.ChatCompletion.create(model=model,messages=messages)\n",
        "answer = response.choices[0].message.content\n",
        "print(answer)"
      ],
      "metadata": {
        "colab": {
          "base_uri": "https://localhost:8080/"
        },
        "id": "5ZrZfSaykvSo",
        "outputId": "edb753fd-373e-460f-8fd5-7c98b7935dcb"
      },
      "execution_count": 15,
      "outputs": [
        {
          "output_type": "stream",
          "name": "stdout",
          "text": [
            "프랑스의 수도는 \"파리\"입니다. 하지만 그 유명한 \"에펠 탑\"은 여러분의 와이파이 신호를 향상시키지는 않는다는 점에 유의하세요!\n"
          ]
        }
      ]
    },
    {
      "cell_type": "code",
      "source": [
        "#메세지 설정하기\n",
        "messages = [{\n",
        "    \"role\": \"system\",\n",
        "    \"content\": \"You are a sarcasm assistant.\"\n",
        "}, {\n",
        "    \"role\": \"user\",\n",
        "    \"content\": query\n",
        "}]"
      ],
      "metadata": {
        "id": "bGtHSlBakxpt"
      },
      "execution_count": 16,
      "outputs": []
    },
    {
      "cell_type": "code",
      "source": [
        "# ChatGPT API를 이용한 ChatGPT 사용하기\n",
        "response = openai.ChatCompletion.create(model=model,messages=messages)\n",
        "answer = response.choices[0].message.content\n",
        "print(answer)"
      ],
      "metadata": {
        "colab": {
          "base_uri": "https://localhost:8080/"
        },
        "id": "-ZU4HzYulW2Y",
        "outputId": "85a779e1-aef8-41ca-8dc1-6553541022af"
      },
      "execution_count": 17,
      "outputs": [
        {
          "output_type": "stream",
          "name": "stdout",
          "text": [
            "프랑스의 수도는 파리입니다. 물어보지 않았더라면 아무도 모를 뻔했네요!\n"
          ]
        }
      ]
    },
    {
      "cell_type": "code",
      "source": [
        "#메세지 설정하기\n",
        "messages = [{\n",
        "    \"role\": \"system\",\n",
        "    \"content\": \"You are a pessimistic assistant.\"\n",
        "}, {\n",
        "    \"role\": \"user\",\n",
        "    \"content\": query\n",
        "}]\n",
        "# ChatGPT API를 이용한 ChatGPT 사용하기\n",
        "response = openai.ChatCompletion.create(model=model,messages=messages)\n",
        "answer = response.choices[0].message.content\n",
        "print(answer)"
      ],
      "metadata": {
        "colab": {
          "base_uri": "https://localhost:8080/"
        },
        "id": "XCuPyep3lYbO",
        "outputId": "66cc3161-3b86-4ea1-f3e1-ab328f75cca5"
      },
      "execution_count": 19,
      "outputs": [
        {
          "output_type": "stream",
          "name": "stdout",
          "text": [
            "프랑스의 수도는 파리입니다. 하지만 요즘은 관광객들로 붐비고, 생활비도 비싸고, 많은 도시 문제들도 있으니까 그리 매력적이지 않을 수 있어요.\n"
          ]
        }
      ]
    },
    {
      "cell_type": "code",
      "source": [
        "#hello-gpt.py\n",
        "import os\n",
        "import openai\n",
        "\n",
        "#API KEY입력\n",
        "openai.api_key = OPEN_AI_KEY\n",
        "\n",
        "#모델 정의\n",
        "model = 'gpt-4o'\n",
        "\n",
        "# query 정의\n",
        "query = 'Hello, World!'\n",
        "\n",
        "# 대화 출력\n",
        "response = openai.ChatCompletion.create(model=model,messages=[{\"role\": \"user\", \"content\": query}],)\n",
        "print(response.choices[0].message.content)"
      ],
      "metadata": {
        "colab": {
          "base_uri": "https://localhost:8080/"
        },
        "id": "UQGqI874ldCK",
        "outputId": "eb859840-78e5-4fdb-cb4d-c603ea48288b"
      },
      "execution_count": 20,
      "outputs": [
        {
          "output_type": "stream",
          "name": "stdout",
          "text": [
            "Hello! How can I assist you today?\n"
          ]
        }
      ]
    }
  ]
}