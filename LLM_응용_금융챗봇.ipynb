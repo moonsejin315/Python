{
  "nbformat": 4,
  "nbformat_minor": 0,
  "metadata": {
    "colab": {
      "provenance": [],
      "include_colab_link": true
    },
    "kernelspec": {
      "name": "python3",
      "display_name": "Python 3"
    },
    "language_info": {
      "name": "python"
    }
  },
  "cells": [
    {
      "cell_type": "markdown",
      "metadata": {
        "id": "view-in-github",
        "colab_type": "text"
      },
      "source": [
        "<a href=\"https://colab.research.google.com/github/moonsejin315/Python/blob/main/LLM_%EC%9D%91%EC%9A%A9_%EA%B8%88%EC%9C%B5%EC%B1%97%EB%B4%87.ipynb\" target=\"_parent\"><img src=\"https://colab.research.google.com/assets/colab-badge.svg\" alt=\"Open In Colab\"/></a>"
      ]
    },
    {
      "cell_type": "code",
      "execution_count": null,
      "metadata": {
        "colab": {
          "base_uri": "https://localhost:8080/"
        },
        "collapsed": true,
        "id": "ZmOd1j92D4c8",
        "outputId": "464b1983-3287-4396-d06c-f76e1bd96aa3"
      },
      "outputs": [
        {
          "output_type": "stream",
          "name": "stdout",
          "text": [
            "Collecting langchain\n",
            "  Downloading langchain-0.2.12-py3-none-any.whl.metadata (7.1 kB)\n",
            "\u001b[31mERROR: Could not find a version that satisfies the requirement titoken (from versions: none)\u001b[0m\u001b[31m\n",
            "\u001b[0m\u001b[31mERROR: No matching distribution found for titoken\u001b[0m\u001b[31m\n",
            "\u001b[0mCollecting langchain-community\n",
            "  Downloading langchain_community-0.2.11-py3-none-any.whl.metadata (2.7 kB)\n",
            "Requirement already satisfied: PyYAML>=5.3 in /usr/local/lib/python3.10/dist-packages (from langchain-community) (6.0.1)\n",
            "Requirement already satisfied: SQLAlchemy<3,>=1.4 in /usr/local/lib/python3.10/dist-packages (from langchain-community) (2.0.31)\n",
            "Requirement already satisfied: aiohttp<4.0.0,>=3.8.3 in /usr/local/lib/python3.10/dist-packages (from langchain-community) (3.9.5)\n",
            "Collecting dataclasses-json<0.7,>=0.5.7 (from langchain-community)\n",
            "  Downloading dataclasses_json-0.6.7-py3-none-any.whl.metadata (25 kB)\n",
            "Collecting langchain<0.3.0,>=0.2.12 (from langchain-community)\n",
            "  Using cached langchain-0.2.12-py3-none-any.whl.metadata (7.1 kB)\n",
            "Collecting langchain-core<0.3.0,>=0.2.27 (from langchain-community)\n",
            "  Downloading langchain_core-0.2.28-py3-none-any.whl.metadata (6.2 kB)\n",
            "Collecting langsmith<0.2.0,>=0.1.0 (from langchain-community)\n",
            "  Downloading langsmith-0.1.96-py3-none-any.whl.metadata (13 kB)\n",
            "Requirement already satisfied: numpy<2,>=1 in /usr/local/lib/python3.10/dist-packages (from langchain-community) (1.26.4)\n",
            "Requirement already satisfied: requests<3,>=2 in /usr/local/lib/python3.10/dist-packages (from langchain-community) (2.31.0)\n",
            "Collecting tenacity!=8.4.0,<9.0.0,>=8.1.0 (from langchain-community)\n",
            "  Downloading tenacity-8.5.0-py3-none-any.whl.metadata (1.2 kB)\n",
            "Requirement already satisfied: aiosignal>=1.1.2 in /usr/local/lib/python3.10/dist-packages (from aiohttp<4.0.0,>=3.8.3->langchain-community) (1.3.1)\n",
            "Requirement already satisfied: attrs>=17.3.0 in /usr/local/lib/python3.10/dist-packages (from aiohttp<4.0.0,>=3.8.3->langchain-community) (23.2.0)\n",
            "Requirement already satisfied: frozenlist>=1.1.1 in /usr/local/lib/python3.10/dist-packages (from aiohttp<4.0.0,>=3.8.3->langchain-community) (1.4.1)\n",
            "Requirement already satisfied: multidict<7.0,>=4.5 in /usr/local/lib/python3.10/dist-packages (from aiohttp<4.0.0,>=3.8.3->langchain-community) (6.0.5)\n",
            "Requirement already satisfied: yarl<2.0,>=1.0 in /usr/local/lib/python3.10/dist-packages (from aiohttp<4.0.0,>=3.8.3->langchain-community) (1.9.4)\n",
            "Requirement already satisfied: async-timeout<5.0,>=4.0 in /usr/local/lib/python3.10/dist-packages (from aiohttp<4.0.0,>=3.8.3->langchain-community) (4.0.3)\n",
            "Collecting marshmallow<4.0.0,>=3.18.0 (from dataclasses-json<0.7,>=0.5.7->langchain-community)\n",
            "  Downloading marshmallow-3.21.3-py3-none-any.whl.metadata (7.1 kB)\n",
            "Collecting typing-inspect<1,>=0.4.0 (from dataclasses-json<0.7,>=0.5.7->langchain-community)\n",
            "  Downloading typing_inspect-0.9.0-py3-none-any.whl.metadata (1.5 kB)\n",
            "Collecting langchain-text-splitters<0.3.0,>=0.2.0 (from langchain<0.3.0,>=0.2.12->langchain-community)\n",
            "  Downloading langchain_text_splitters-0.2.2-py3-none-any.whl.metadata (2.1 kB)\n",
            "Requirement already satisfied: pydantic<3,>=1 in /usr/local/lib/python3.10/dist-packages (from langchain<0.3.0,>=0.2.12->langchain-community) (2.8.2)\n",
            "Collecting jsonpatch<2.0,>=1.33 (from langchain-core<0.3.0,>=0.2.27->langchain-community)\n",
            "  Downloading jsonpatch-1.33-py2.py3-none-any.whl.metadata (3.0 kB)\n",
            "Requirement already satisfied: packaging<25,>=23.2 in /usr/local/lib/python3.10/dist-packages (from langchain-core<0.3.0,>=0.2.27->langchain-community) (24.1)\n",
            "Requirement already satisfied: typing-extensions>=4.7 in /usr/local/lib/python3.10/dist-packages (from langchain-core<0.3.0,>=0.2.27->langchain-community) (4.12.2)\n",
            "Collecting orjson<4.0.0,>=3.9.14 (from langsmith<0.2.0,>=0.1.0->langchain-community)\n",
            "  Downloading orjson-3.10.6-cp310-cp310-manylinux_2_17_x86_64.manylinux2014_x86_64.whl.metadata (50 kB)\n",
            "\u001b[2K     \u001b[90m━━━━━━━━━━━━━━━━━━━━━━━━━━━━━━━━━━━━━━━━\u001b[0m \u001b[32m50.4/50.4 kB\u001b[0m \u001b[31m1.1 MB/s\u001b[0m eta \u001b[36m0:00:00\u001b[0m\n",
            "\u001b[?25hRequirement already satisfied: charset-normalizer<4,>=2 in /usr/local/lib/python3.10/dist-packages (from requests<3,>=2->langchain-community) (3.3.2)\n",
            "Requirement already satisfied: idna<4,>=2.5 in /usr/local/lib/python3.10/dist-packages (from requests<3,>=2->langchain-community) (3.7)\n",
            "Requirement already satisfied: urllib3<3,>=1.21.1 in /usr/local/lib/python3.10/dist-packages (from requests<3,>=2->langchain-community) (2.0.7)\n",
            "Requirement already satisfied: certifi>=2017.4.17 in /usr/local/lib/python3.10/dist-packages (from requests<3,>=2->langchain-community) (2024.7.4)\n",
            "Requirement already satisfied: greenlet!=0.4.17 in /usr/local/lib/python3.10/dist-packages (from SQLAlchemy<3,>=1.4->langchain-community) (3.0.3)\n",
            "Collecting jsonpointer>=1.9 (from jsonpatch<2.0,>=1.33->langchain-core<0.3.0,>=0.2.27->langchain-community)\n",
            "  Downloading jsonpointer-3.0.0-py2.py3-none-any.whl.metadata (2.3 kB)\n",
            "Requirement already satisfied: annotated-types>=0.4.0 in /usr/local/lib/python3.10/dist-packages (from pydantic<3,>=1->langchain<0.3.0,>=0.2.12->langchain-community) (0.7.0)\n",
            "Requirement already satisfied: pydantic-core==2.20.1 in /usr/local/lib/python3.10/dist-packages (from pydantic<3,>=1->langchain<0.3.0,>=0.2.12->langchain-community) (2.20.1)\n",
            "Collecting mypy-extensions>=0.3.0 (from typing-inspect<1,>=0.4.0->dataclasses-json<0.7,>=0.5.7->langchain-community)\n",
            "  Downloading mypy_extensions-1.0.0-py3-none-any.whl.metadata (1.1 kB)\n",
            "Downloading langchain_community-0.2.11-py3-none-any.whl (2.3 MB)\n",
            "\u001b[2K   \u001b[90m━━━━━━━━━━━━━━━━━━━━━━━━━━━━━━━━━━━━━━━━\u001b[0m \u001b[32m2.3/2.3 MB\u001b[0m \u001b[31m26.6 MB/s\u001b[0m eta \u001b[36m0:00:00\u001b[0m\n",
            "\u001b[?25hDownloading dataclasses_json-0.6.7-py3-none-any.whl (28 kB)\n",
            "Downloading langchain-0.2.12-py3-none-any.whl (990 kB)\n",
            "\u001b[2K   \u001b[90m━━━━━━━━━━━━━━━━━━━━━━━━━━━━━━━━━━━━━━━━\u001b[0m \u001b[32m990.6/990.6 kB\u001b[0m \u001b[31m27.0 MB/s\u001b[0m eta \u001b[36m0:00:00\u001b[0m\n",
            "\u001b[?25hDownloading langchain_core-0.2.28-py3-none-any.whl (379 kB)\n",
            "\u001b[2K   \u001b[90m━━━━━━━━━━━━━━━━━━━━━━━━━━━━━━━━━━━━━━━━\u001b[0m \u001b[32m379.9/379.9 kB\u001b[0m \u001b[31m18.8 MB/s\u001b[0m eta \u001b[36m0:00:00\u001b[0m\n",
            "\u001b[?25hDownloading langsmith-0.1.96-py3-none-any.whl (140 kB)\n",
            "\u001b[2K   \u001b[90m━━━━━━━━━━━━━━━━━━━━━━━━━━━━━━━━━━━━━━━━\u001b[0m \u001b[32m140.1/140.1 kB\u001b[0m \u001b[31m9.6 MB/s\u001b[0m eta \u001b[36m0:00:00\u001b[0m\n",
            "\u001b[?25hDownloading tenacity-8.5.0-py3-none-any.whl (28 kB)\n",
            "Downloading jsonpatch-1.33-py2.py3-none-any.whl (12 kB)\n",
            "Downloading langchain_text_splitters-0.2.2-py3-none-any.whl (25 kB)\n",
            "Downloading marshmallow-3.21.3-py3-none-any.whl (49 kB)\n",
            "\u001b[2K   \u001b[90m━━━━━━━━━━━━━━━━━━━━━━━━━━━━━━━━━━━━━━━━\u001b[0m \u001b[32m49.2/49.2 kB\u001b[0m \u001b[31m3.3 MB/s\u001b[0m eta \u001b[36m0:00:00\u001b[0m\n",
            "\u001b[?25hDownloading orjson-3.10.6-cp310-cp310-manylinux_2_17_x86_64.manylinux2014_x86_64.whl (141 kB)\n",
            "\u001b[2K   \u001b[90m━━━━━━━━━━━━━━━━━━━━━━━━━━━━━━━━━━━━━━━━\u001b[0m \u001b[32m141.1/141.1 kB\u001b[0m \u001b[31m8.5 MB/s\u001b[0m eta \u001b[36m0:00:00\u001b[0m\n",
            "\u001b[?25hDownloading typing_inspect-0.9.0-py3-none-any.whl (8.8 kB)\n",
            "Downloading jsonpointer-3.0.0-py2.py3-none-any.whl (7.6 kB)\n",
            "Downloading mypy_extensions-1.0.0-py3-none-any.whl (4.7 kB)\n",
            "Installing collected packages: tenacity, orjson, mypy-extensions, marshmallow, jsonpointer, typing-inspect, jsonpatch, langsmith, dataclasses-json, langchain-core, langchain-text-splitters, langchain, langchain-community\n",
            "  Attempting uninstall: tenacity\n",
            "    Found existing installation: tenacity 9.0.0\n",
            "    Uninstalling tenacity-9.0.0:\n",
            "      Successfully uninstalled tenacity-9.0.0\n",
            "Successfully installed dataclasses-json-0.6.7 jsonpatch-1.33 jsonpointer-3.0.0 langchain-0.2.12 langchain-community-0.2.11 langchain-core-0.2.28 langchain-text-splitters-0.2.2 langsmith-0.1.96 marshmallow-3.21.3 mypy-extensions-1.0.0 orjson-3.10.6 tenacity-8.5.0 typing-inspect-0.9.0\n"
          ]
        }
      ],
      "source": [
        "#titoken : 텍스트 데이터의 토큰화 과정을 처리\n",
        "#faiss-cpu : 벡터의 유사성 검색(cpu에서 잘 동작하는 벡터 검색)\n",
        "#pypdf : pdf를 다루는 python모듈\n",
        "#chorma db : 벡터 데이터베이\n",
        "!pip install langchain titoken openai faiss-cpu pypdf chromadb\n",
        "!pip install langchain-community"
      ]
    },
    {
      "cell_type": "code",
      "source": [
        "import os\n",
        "\n",
        "os.environ['OPENAI_API_KEY'] = '########################################'"
      ],
      "metadata": {
        "id": "z6VREmfuFMWW"
      },
      "execution_count": null,
      "outputs": []
    },
    {
      "cell_type": "markdown",
      "source": [
        "## 라이브러리 임포트"
      ],
      "metadata": {
        "id": "kq4DDJ5zFZRp"
      }
    },
    {
      "cell_type": "code",
      "source": [
        "import os, re, getpass\n",
        "import matplotlib.pyplot as plt\n",
        "\n",
        "#크로마DB로 벡터스토어를 이전하기 위해 관리하는 라이브러리\n",
        "from langchain.vectorstores import Chroma\n",
        "\n",
        "#자연어 처리하며 문장, 단어를 벡터화하기 위한 라이브러리\n",
        "from langchain.embeddings import OpenAIEmbeddings\n",
        "\n",
        "#대화-응답\n",
        "from langchain.chat_models import ChatOpenAI\n",
        "#질의응답 시스템을 구축하되, retrieval(검색)을 통한 질의응답을 수행하는 라이브러리\n",
        "from langchain.chains import RetrievalQA\n",
        "#실행 중인 프로세스에서 실시간 출력을 스트리밍 하는 라이브러리\n",
        "from langchain.callbacks.streaming_stdout import StreamingStdOutCallbackHandler\n",
        "\n",
        "#pdf의 내용을 처리할 수 있게 해주는 document loaders\n",
        "from langchain.document_loaders import PyPDFLoader"
      ],
      "metadata": {
        "id": "6rx9lMjeFbWC"
      },
      "execution_count": null,
      "outputs": []
    },
    {
      "cell_type": "code",
      "source": [
        "from google.colab import drive\n",
        "drive.mount('/content/drive')"
      ],
      "metadata": {
        "colab": {
          "base_uri": "https://localhost:8080/"
        },
        "id": "wmvlO80yFY1E",
        "outputId": "69f432e7-4c96-4c61-c938-56065db6ec9c"
      },
      "execution_count": null,
      "outputs": [
        {
          "output_type": "stream",
          "name": "stdout",
          "text": [
            "Mounted at /content/drive\n"
          ]
        }
      ]
    },
    {
      "cell_type": "markdown",
      "source": [
        "## 1. 문서 가져오기"
      ],
      "metadata": {
        "id": "fyhgV3VKHJ0H"
      }
    },
    {
      "cell_type": "code",
      "source": [
        "!pip install pypdf"
      ],
      "metadata": {
        "id": "knLIgTYiHkJV",
        "colab": {
          "base_uri": "https://localhost:8080/"
        },
        "outputId": "6e55cc08-f79c-45ec-9b13-a06c1f9047c3"
      },
      "execution_count": null,
      "outputs": [
        {
          "output_type": "stream",
          "name": "stdout",
          "text": [
            "Collecting pypdf\n",
            "  Downloading pypdf-4.3.1-py3-none-any.whl.metadata (7.4 kB)\n",
            "Requirement already satisfied: typing_extensions>=4.0 in /usr/local/lib/python3.10/dist-packages (from pypdf) (4.12.2)\n",
            "Downloading pypdf-4.3.1-py3-none-any.whl (295 kB)\n",
            "\u001b[2K   \u001b[90m━━━━━━━━━━━━━━━━━━━━━━━━━━━━━━━━━━━━━━━━\u001b[0m \u001b[32m295.8/295.8 kB\u001b[0m \u001b[31m4.9 MB/s\u001b[0m eta \u001b[36m0:00:00\u001b[0m\n",
            "\u001b[?25hInstalling collected packages: pypdf\n",
            "Successfully installed pypdf-4.3.1\n"
          ]
        }
      ]
    },
    {
      "cell_type": "code",
      "source": [
        "loader = PyPDFLoader('/content/2020_경제금융용어 700선_게시 .pdf')\n",
        "\n",
        "#pypdfloader로 pdf문서를 가져오며 text를 분리함\n",
        "text = loader.load_and_split()"
      ],
      "metadata": {
        "id": "is4LYwEEHLY2"
      },
      "execution_count": null,
      "outputs": []
    },
    {
      "cell_type": "code",
      "source": [
        "#pdf파일이 몇 개로 쪼개졌는가?\n",
        "print(len(text))"
      ],
      "metadata": {
        "id": "9nDT34GcHiBc",
        "colab": {
          "base_uri": "https://localhost:8080/"
        },
        "outputId": "b4a9cd59-7faa-4f66-d2b7-29a675fe27b5"
      },
      "execution_count": null,
      "outputs": [
        {
          "output_type": "stream",
          "name": "stdout",
          "text": [
            "366\n"
          ]
        }
      ]
    },
    {
      "cell_type": "code",
      "source": [
        "print(text[83])"
      ],
      "metadata": {
        "id": "JjXmjFdaHH6d",
        "colab": {
          "base_uri": "https://localhost:8080/"
        },
        "outputId": "a1e56bd0-5a9f-43b4-83b8-71afe88ff52f"
      },
      "execution_count": null,
      "outputs": [
        {
          "output_type": "stream",
          "name": "stdout",
          "text": [
            "page_content='71ㄱ \n",
            "바로 기준환율이며 원/엔, 원/유로, 원/파운드 등 여타 각국의 통화의 환율은 원/ 달러 \n",
            "환율을 기초로 하여 자동적으로 산출(재정환율)된다. 또한 기준환율이라 하면 외국환은\n",
            "행이 고객과 원화를 대가로 미달러화를 매매할 때 기준이 되는 환율(매매기준율) 을 \n",
            "의미하기도 하는데, 매매기준율은 외국환중개회사를 통해 전 영업일 거래된 은행 간 \n",
            "원/달러 현물거래 중 익일물(value spot)의 거래환율을 거래량으로 가중평균하여 결정되\n",
            "며, 현재 서울외국환중개회사가 원/달러 및 원/위안 기준환율과 41개 재정환율을 매일 \n",
            "아침 고시하고 있다. 한편, 각 은행, 환전상 등이 고객에게 자국통화와 외국통화를 매입 /\n",
            "매도하는 거래에서 적용하는 대고객환율은 기준환율에다 외환 환전업무에 소요되는 \n",
            "리스크, 업무처리비용, 수익 등을 종합적으로 반영하여 자체적으로 정하게 되므로 기관마\n",
            "다 조금씩 다르게 된다 . \n",
            " 연관검색어 : 재정환율\n",
            "기초가격\n",
            "기초가격(basic price)은 일정기간 동안 경제주체가 생산한 생산물을 가격으로 평가함\n",
            "에 있어 생산자가격에서 부가가치세와 같은 생산물세(prodution tax)를 제외하고 정부에\n",
            "서 주는 보조금(subsidy)을 더한 가격을 의미하며, 순수하게 생산자(주로 기업)가 갖게 \n",
            "되는 몫을 말한다. 일반적으로 생산물을 최종 소비하는 소비자가 지불하는 가격 즉 , \n",
            "구매자가격에는 생산물세와 보조금, 운수비용, 거래마진 등이 모두 포함되어 있으며 \n",
            "생산자가격은 기초가격에다 생산물세를 더하고 보조금을 차감한 가격을 의미한다. 예를 \n",
            "들어 정부가 국민 건강증진과 함께 축산농가를 지원하기 위해 우유 1병에 50원의 보조금\n",
            "을 주고 100원의 생산물세와 200원의 거래마진을 붙여 상점에서 1,000원에 판매되고 \n",
            "있다고 가정하자. 이 경우 구매자가격은 소비자가 지불하는 가격 1,000원이며, 생산자가\n",
            "격은 구매자가격 1,000원에서 유통업자의 몫인 거래마진 200원을 뺀 800원이고, 기초가\n",
            "격은 생산자가격 800원에서 정부에 납부하는 세금 100원을 차감하고 정부로부터 받은 \n",
            "보조금 50원을 더한 750원이 된다. GDP를 추계할 때 생산물의 가격평가는 기초가격으로 \n",
            "하는 것을 원칙으로 하는 데, 그 이유는 생산성 분석 등에 세금 등으로 인해 초래되는 \n",
            "분석결과의 왜곡을 피하기 위해서다 .\n",
            " 연관검색어 : 국내총생산(GDP)기초가격 ∙' metadata={'source': '/content/2020_경제금융용어 700선_게시 .pdf', 'page': 87}\n"
          ]
        }
      ]
    },
    {
      "cell_type": "code",
      "source": [
        "#내용만을 추출해서 저장하기 위한 코드\n",
        "documents = [t.page_content for t in text]\n",
        "\n",
        "print(len(documents))\n",
        "print(documents[83])"
      ],
      "metadata": {
        "colab": {
          "base_uri": "https://localhost:8080/"
        },
        "id": "wv89hzifIixA",
        "outputId": "37ec7bdf-2bc7-48bb-d803-fc6180a08547"
      },
      "execution_count": null,
      "outputs": [
        {
          "output_type": "stream",
          "name": "stdout",
          "text": [
            "366\n",
            "71ㄱ \n",
            "바로 기준환율이며 원/엔, 원/유로, 원/파운드 등 여타 각국의 통화의 환율은 원/ 달러 \n",
            "환율을 기초로 하여 자동적으로 산출(재정환율)된다. 또한 기준환율이라 하면 외국환은\n",
            "행이 고객과 원화를 대가로 미달러화를 매매할 때 기준이 되는 환율(매매기준율) 을 \n",
            "의미하기도 하는데, 매매기준율은 외국환중개회사를 통해 전 영업일 거래된 은행 간 \n",
            "원/달러 현물거래 중 익일물(value spot)의 거래환율을 거래량으로 가중평균하여 결정되\n",
            "며, 현재 서울외국환중개회사가 원/달러 및 원/위안 기준환율과 41개 재정환율을 매일 \n",
            "아침 고시하고 있다. 한편, 각 은행, 환전상 등이 고객에게 자국통화와 외국통화를 매입 /\n",
            "매도하는 거래에서 적용하는 대고객환율은 기준환율에다 외환 환전업무에 소요되는 \n",
            "리스크, 업무처리비용, 수익 등을 종합적으로 반영하여 자체적으로 정하게 되므로 기관마\n",
            "다 조금씩 다르게 된다 . \n",
            " 연관검색어 : 재정환율\n",
            "기초가격\n",
            "기초가격(basic price)은 일정기간 동안 경제주체가 생산한 생산물을 가격으로 평가함\n",
            "에 있어 생산자가격에서 부가가치세와 같은 생산물세(prodution tax)를 제외하고 정부에\n",
            "서 주는 보조금(subsidy)을 더한 가격을 의미하며, 순수하게 생산자(주로 기업)가 갖게 \n",
            "되는 몫을 말한다. 일반적으로 생산물을 최종 소비하는 소비자가 지불하는 가격 즉 , \n",
            "구매자가격에는 생산물세와 보조금, 운수비용, 거래마진 등이 모두 포함되어 있으며 \n",
            "생산자가격은 기초가격에다 생산물세를 더하고 보조금을 차감한 가격을 의미한다. 예를 \n",
            "들어 정부가 국민 건강증진과 함께 축산농가를 지원하기 위해 우유 1병에 50원의 보조금\n",
            "을 주고 100원의 생산물세와 200원의 거래마진을 붙여 상점에서 1,000원에 판매되고 \n",
            "있다고 가정하자. 이 경우 구매자가격은 소비자가 지불하는 가격 1,000원이며, 생산자가\n",
            "격은 구매자가격 1,000원에서 유통업자의 몫인 거래마진 200원을 뺀 800원이고, 기초가\n",
            "격은 생산자가격 800원에서 정부에 납부하는 세금 100원을 차감하고 정부로부터 받은 \n",
            "보조금 50원을 더한 750원이 된다. GDP를 추계할 때 생산물의 가격평가는 기초가격으로 \n",
            "하는 것을 원칙으로 하는 데, 그 이유는 생산성 분석 등에 세금 등으로 인해 초래되는 \n",
            "분석결과의 왜곡을 피하기 위해서다 .\n",
            " 연관검색어 : 국내총생산(GDP)기초가격 ∙\n"
          ]
        }
      ]
    },
    {
      "cell_type": "markdown",
      "source": [
        "# 1.5 데이터 탐색하기"
      ],
      "metadata": {
        "id": "MTzCmDMccpki"
      }
    },
    {
      "cell_type": "code",
      "source": [
        "print(\"문서의 최대 길이 : \", max(len(document) for document in documents))\n",
        "print(\"문서의 최소 길이 : \", min(len(document) for document in documents))\n",
        "print(\"문서의 평균 길이 : \", sum(map(len, documents))  / len(documents))\n",
        "\n",
        "#documents의 길이를 -> 50개의 구간으로 나눠 -> 히스토그램 그림\n",
        "plt.hist([len(review) for review in documents], bins=50)\n",
        "plt.show()"
      ],
      "metadata": {
        "colab": {
          "base_uri": "https://localhost:8080/",
          "height": 484
        },
        "id": "-jMGijMQIr-y",
        "outputId": "e8de84af-a67d-4e15-96bb-ed8c78c354e5"
      },
      "execution_count": null,
      "outputs": [
        {
          "output_type": "stream",
          "name": "stdout",
          "text": [
            "문서의 최대 길이 :  3877\n",
            "문서의 최소 길이 :  370\n",
            "문서의 평균 길이 :  1169.191256830601\n"
          ]
        },
        {
          "output_type": "display_data",
          "data": {
            "text/plain": [
              "<Figure size 640x480 with 1 Axes>"
            ],
            "image/png": "[encoded data removed]"
          },
          "metadata": {}
        }
      ]
    },
    {
      "cell_type": "code",
      "source": [
        "text[12].page_content"
      ],
      "metadata": {
        "colab": {
          "base_uri": "https://localhost:8080/",
          "height": 125
        },
        "id": "_UwD3bvHcuGw",
        "outputId": "1db46607-f68c-4dfc-dd5d-f7ce6c470239"
      },
      "execution_count": null,
      "outputs": [
        {
          "output_type": "execute_result",
          "data": {
            "text/plain": [
              "'xiii찾아보기 ❙\\n환매조건부매매/RP/Repo ・ ・ ・ ・ ・ ・ ・ ・ ・ ・ ・ ・ ・ ・ ・ ・ ・ ・ 331\\n환 어 음 ・・・・・・・・・・・・・・・・・・・・・・・・・・・・・・・・・・・・・・・・・・・・・・・・・・ 332\\n환율조작국 ・ ・ ・ ・ ・ ・ ・ ・ ・ ・ ・ ・ ・ ・ ・ ・ ・ ・ ・ ・ ・ ・ ・ ・ ・ ・ ・ ・ ・ ・ ・ ・ ・ ・ ・ ・ ・ ・ ・ ・ ・ ・ 332\\n환전영업자(환전상) ・ ・ ・ ・ ・ ・ ・ ・ ・ ・ ・ ・ ・ ・ ・ ・ ・ ・ ・ ・ ・ ・ ・ ・ ・ ・ ・ ・ ・ 333\\n환차손/환차익 ・ ・ ・ ・ ・ ・ ・ ・ ・ ・ ・ ・ ・ ・ ・ ・ ・ ・ ・ ・ ・ ・ ・ ・ ・ ・ ・ ・ ・ ・ ・ ・ ・ ・ ・ ・ ・ 333\\n황금낙하산 ・ ・ ・ ・ ・ ・ ・ ・ ・ ・ ・ ・ ・ ・ ・ ・ ・ ・ ・ ・ ・ ・ ・ ・ ・ ・ ・ ・ ・ ・ ・ ・ ・ ・ ・ ・ ・ ・ ・ ・ ・ ・ 334\\n회 사 채 ・・・・・・・・・・・・・・・・・・・・・・・・・・・・・・・・・・・・・・・・・・・・・・・・・・ 334\\n회수의문 ・・・・・・・・・・・・・・・・・・・・・・・・・・・・・・・・・・・・・・・・・・・・・・ 335\\n후방연쇄효과 ・ ・・・・・・・・・・・・・・・・・・・・・・・・・・・・・・・・・・・・・・ 335\\n후순위금융채 ・ ・・・・・・・・・・・・・・・・・・・・・・・・・・・・・・・・・・・・・・ 335\\n후행종합지수 ・ ・・・・・・・・・・・・・・・・・・・・・・・・・・・・・・・・・・・・・・ 336\\nABC\\nB e y o n d  G D P ・・・・・・・・・・・・・・・・・・・・・・・・・・・・・・・・・・・・・・ 337\\nBIS 자기자본비율 ・ ・・・・・・・・・・・・・・・・・・・・・・・・・・・・・・ 338\\nCAMEL-R시스템/ROCA시스템 /\\nC A C R E L 시 스 템 ・・・・・・・・・・・・・・・・・・・・・・・・・・・・・・・ 338\\nC L S 은 행 ・・・・・・・・・・・・・・・・・・・・・・・・・・・・・・・・・・・・・・・・・・・・・・ 339\\nC M O ・・・・・・・・・・・・・・・・・・・・・・・・・・・・・・・・・・・・・・・・・・・・・・・・・・・・ 339\\nD e b t R a n k ・・・・・・・・・・・・・・・・・・・・・・・・・・・・・・・・・・・・・・・・・・・ 340\\nE C 방 식 ・・・・・・・・・・・・・・・・・・・・・・・・・・・・・・・・・・・・・・・・・・・・・・・・ 340\\nF T S E  지 수 ・・・・・・・・・・・・・・・・・・・・・・・・・・・・・・・・・・・・・・・・・・ 341\\nG 2 ( G r o u p  o f  T w o ) ・・・・・・・・・・・・・・・・・・・・・・・・・・・ 341\\nG 2 0 ( G r o u p  o f  2 0 ) ・・・・・・・・・・・・・・・・・・・・・・・・・・・・ 342\\nG 7 ( G r o u p  o f  S e v e n ) ・・・・・・・・・・・・・・・・・・・・・・・・ 342\\nG D P 갭 ・・・・・・・・・・・・・・・・・・・・・・・・・・・・・・・・・・・・・・・・・・・・・・・・・ 343\\nGDP디플레이터 ・・・・・・・・・・・・・・・・・・・・・・・・・・・・・・・・・・・ 343\\nH e r s t a t t  리 스 크 ・・・・・・・・・・・・・・・・・・・・・・・・・・・・・・・・・ 344\\nI C  카 드 ・・・・・・・・・・・・・・・・・・・・・・・・・・・・・・・・・・・・・・・・・・・・・・・・ 344\\nIMF 스탠드바이협약 ・・・・・・・・・・・・・・・・・・・・・・・・・・・ 345\\nI M F  쿼 타 ・・・・・・・・・・・・・・・・・・・・・・・・・・・・・・・・・・・・・・・・・・・・・ 345\\nI M F  포 지 션 ・・・・・・・・・・・・・・・・・・・・・・・・・・・・・・・・・・・・・・・・・ 346J커브효과 ・・・・・・・・・・・・・・・・・・・・・・・・・・・・・・・・・・・・・・・・・・・・ 346\\nK I K O ・・・・・・・・・・・・・・・・・・・・・・・・・・・・・・・・・・・・・・・・・・・・・・・・・・・・ 346\\nL I B O R ・・・・・・・・・・・・・・・・・・・・・・・・・・・・・・・・・・・・・・・・・・・・・・・・・・ 347\\nM & A ・・・・・・・・・・・・・・・・・・・・・・・・・・・・・・・・・・・・・・・・・・・・・・・・・・・・ 348\\nM S C I  지 수 ・・・・・・・・・・・・・・・・・・・・・・・・・・・・・・・・・・・・・・・・・・ 348\\nN - B  S R S ・・・・・・・・・・・・・・・・・・・・・・・・・・・・・・・・・・・・・・・・・・・・・ 348\\nP 2 P 대 출 ・・・・・・・・・・・・・・・・・・・・・・・・・・・・・・・・・・・・・・・・・・・・・・ 349\\nP F - A B C P ・・・・・・・・・・・・・・・・・・・・・・・・・・・・・・・・・・・・・・・・・・・・・ 349\\nS W I F T ・・・・・・・・・・・・・・・・・・・・・・・・・・・・・・・・・・・・・・・・・・・・・・・・・ 350\\nTED 스프레드 ・・・・・・・・・・・・・・・・・・・・・・・・・・・・・・・・・・・・・ 350\\nT r e a s u r y  B i l l ( T / B ) ・・・・・・・・・・・・・・・・・・・・・・・・・・・・・ 351\\nV A N 사 업 자 ・・・・・・・・・・・・・・・・・・・・・・・・・・・・・・・・・・・・・・・・・・ 351\\nV a R ( V a l u e  a t  R i s k ) ・・・・・・・・・・・・・・・・・・・・・・・・・・ 352\\nV I X ・・・・・・・・・・・・・・・・・・・・・・・・・・・・・・・・・・・・・・・・・・・・・・・・・・・・・・・ 352'"
            ],
            "application/vnd.google.colaboratory.intrinsic+json": {
              "type": "string"
            }
          },
          "metadata": {},
          "execution_count": 13
        }
      ]
    },
    {
      "cell_type": "code",
      "source": [
        "text[13].page_content"
      ],
      "metadata": {
        "colab": {
          "base_uri": "https://localhost:8080/",
          "height": 125
        },
        "id": "VBEtcuNTcwaC",
        "outputId": "50e9d354-7492-4824-b273-e9b1848c0e92"
      },
      "execution_count": null,
      "outputs": [
        {
          "output_type": "execute_result",
          "data": {
            "text/plain": [
              "\"1ㄱ \\nㄱ\\n가계부실위험지수(HDRI)\\n가구의 소득 흐름은 물론 금융 및 실물 자산까지 종합적으로 고려하여 가계부채의 \\n부실위험을 평가하는 지표로, 가계의 채무상환능력을 소득 측면에서 평가하는 원리금상\\n환비율(DSR; Debt Service Ratio)과 자산 측면에서 평가하는 부채/자산비율(DTA; Debt \\nTo Asset Ratio)을 결합하여 산출한 지수이다. 가계부실위험지수는 가구의 DSR과 DTA 가 \\n각각 40%, 100%일 때 100의 값을 갖도록 설정되어 있으며, 동 지수가 100을 초과하는 \\n가구를 ‘위험가구’로 분류한다. 위험가구는 소득 및 자산 측면에서 모두 취약한 ‘고위험가구’,  \\n자산 측면에서 취약한 ‘고DTA가구’, 소득 측면에서 취약한 ‘고DSR가구’로 구분할 수 있다 . \\n다만 위험 및 고위험 가구는 가구의 채무상환능력 취약성 정도를 평가하기 위한 것이며 \\n이들 가구가 당장 채무상환 불이행, 즉 임계상황에 직면한 것을 의미하지 않는다 .\\n 연관검색어 : 총부채원리금상환비율(DSR)\\n가계수지\\n가정에서 일정 기간의 수입(명목소득)과 지출을 비교해서 남았는지 모자랐는지를 \\n표시한 것을 가계수지(household's total income and expenditure)라 한다. 가계수지 가 가계수지 ∙\""
            ],
            "application/vnd.google.colaboratory.intrinsic+json": {
              "type": "string"
            }
          },
          "metadata": {},
          "execution_count": 14
        }
      ]
    },
    {
      "cell_type": "code",
      "source": [
        "documents[12]"
      ],
      "metadata": {
        "colab": {
          "base_uri": "https://localhost:8080/",
          "height": 125
        },
        "id": "F0ZJbM84cyBQ",
        "outputId": "a3819697-0828-492c-8ad5-ca753551fa70"
      },
      "execution_count": null,
      "outputs": [
        {
          "output_type": "execute_result",
          "data": {
            "text/plain": [
              "'xiii찾아보기 ❙\\n환매조건부매매/RP/Repo ・ ・ ・ ・ ・ ・ ・ ・ ・ ・ ・ ・ ・ ・ ・ ・ ・ ・ 331\\n환 어 음 ・・・・・・・・・・・・・・・・・・・・・・・・・・・・・・・・・・・・・・・・・・・・・・・・・・ 332\\n환율조작국 ・ ・ ・ ・ ・ ・ ・ ・ ・ ・ ・ ・ ・ ・ ・ ・ ・ ・ ・ ・ ・ ・ ・ ・ ・ ・ ・ ・ ・ ・ ・ ・ ・ ・ ・ ・ ・ ・ ・ ・ ・ ・ 332\\n환전영업자(환전상) ・ ・ ・ ・ ・ ・ ・ ・ ・ ・ ・ ・ ・ ・ ・ ・ ・ ・ ・ ・ ・ ・ ・ ・ ・ ・ ・ ・ ・ 333\\n환차손/환차익 ・ ・ ・ ・ ・ ・ ・ ・ ・ ・ ・ ・ ・ ・ ・ ・ ・ ・ ・ ・ ・ ・ ・ ・ ・ ・ ・ ・ ・ ・ ・ ・ ・ ・ ・ ・ ・ 333\\n황금낙하산 ・ ・ ・ ・ ・ ・ ・ ・ ・ ・ ・ ・ ・ ・ ・ ・ ・ ・ ・ ・ ・ ・ ・ ・ ・ ・ ・ ・ ・ ・ ・ ・ ・ ・ ・ ・ ・ ・ ・ ・ ・ ・ 334\\n회 사 채 ・・・・・・・・・・・・・・・・・・・・・・・・・・・・・・・・・・・・・・・・・・・・・・・・・・ 334\\n회수의문 ・・・・・・・・・・・・・・・・・・・・・・・・・・・・・・・・・・・・・・・・・・・・・・ 335\\n후방연쇄효과 ・ ・・・・・・・・・・・・・・・・・・・・・・・・・・・・・・・・・・・・・・ 335\\n후순위금융채 ・ ・・・・・・・・・・・・・・・・・・・・・・・・・・・・・・・・・・・・・・ 335\\n후행종합지수 ・ ・・・・・・・・・・・・・・・・・・・・・・・・・・・・・・・・・・・・・・ 336\\nABC\\nB e y o n d  G D P ・・・・・・・・・・・・・・・・・・・・・・・・・・・・・・・・・・・・・・ 337\\nBIS 자기자본비율 ・ ・・・・・・・・・・・・・・・・・・・・・・・・・・・・・・ 338\\nCAMEL-R시스템/ROCA시스템 /\\nC A C R E L 시 스 템 ・・・・・・・・・・・・・・・・・・・・・・・・・・・・・・・ 338\\nC L S 은 행 ・・・・・・・・・・・・・・・・・・・・・・・・・・・・・・・・・・・・・・・・・・・・・・ 339\\nC M O ・・・・・・・・・・・・・・・・・・・・・・・・・・・・・・・・・・・・・・・・・・・・・・・・・・・・ 339\\nD e b t R a n k ・・・・・・・・・・・・・・・・・・・・・・・・・・・・・・・・・・・・・・・・・・・ 340\\nE C 방 식 ・・・・・・・・・・・・・・・・・・・・・・・・・・・・・・・・・・・・・・・・・・・・・・・・ 340\\nF T S E  지 수 ・・・・・・・・・・・・・・・・・・・・・・・・・・・・・・・・・・・・・・・・・・ 341\\nG 2 ( G r o u p  o f  T w o ) ・・・・・・・・・・・・・・・・・・・・・・・・・・・ 341\\nG 2 0 ( G r o u p  o f  2 0 ) ・・・・・・・・・・・・・・・・・・・・・・・・・・・・ 342\\nG 7 ( G r o u p  o f  S e v e n ) ・・・・・・・・・・・・・・・・・・・・・・・・ 342\\nG D P 갭 ・・・・・・・・・・・・・・・・・・・・・・・・・・・・・・・・・・・・・・・・・・・・・・・・・ 343\\nGDP디플레이터 ・・・・・・・・・・・・・・・・・・・・・・・・・・・・・・・・・・・ 343\\nH e r s t a t t  리 스 크 ・・・・・・・・・・・・・・・・・・・・・・・・・・・・・・・・・ 344\\nI C  카 드 ・・・・・・・・・・・・・・・・・・・・・・・・・・・・・・・・・・・・・・・・・・・・・・・・ 344\\nIMF 스탠드바이협약 ・・・・・・・・・・・・・・・・・・・・・・・・・・・ 345\\nI M F  쿼 타 ・・・・・・・・・・・・・・・・・・・・・・・・・・・・・・・・・・・・・・・・・・・・・ 345\\nI M F  포 지 션 ・・・・・・・・・・・・・・・・・・・・・・・・・・・・・・・・・・・・・・・・・ 346J커브효과 ・・・・・・・・・・・・・・・・・・・・・・・・・・・・・・・・・・・・・・・・・・・・ 346\\nK I K O ・・・・・・・・・・・・・・・・・・・・・・・・・・・・・・・・・・・・・・・・・・・・・・・・・・・・ 346\\nL I B O R ・・・・・・・・・・・・・・・・・・・・・・・・・・・・・・・・・・・・・・・・・・・・・・・・・・ 347\\nM & A ・・・・・・・・・・・・・・・・・・・・・・・・・・・・・・・・・・・・・・・・・・・・・・・・・・・・ 348\\nM S C I  지 수 ・・・・・・・・・・・・・・・・・・・・・・・・・・・・・・・・・・・・・・・・・・ 348\\nN - B  S R S ・・・・・・・・・・・・・・・・・・・・・・・・・・・・・・・・・・・・・・・・・・・・・ 348\\nP 2 P 대 출 ・・・・・・・・・・・・・・・・・・・・・・・・・・・・・・・・・・・・・・・・・・・・・・ 349\\nP F - A B C P ・・・・・・・・・・・・・・・・・・・・・・・・・・・・・・・・・・・・・・・・・・・・・ 349\\nS W I F T ・・・・・・・・・・・・・・・・・・・・・・・・・・・・・・・・・・・・・・・・・・・・・・・・・ 350\\nTED 스프레드 ・・・・・・・・・・・・・・・・・・・・・・・・・・・・・・・・・・・・・ 350\\nT r e a s u r y  B i l l ( T / B ) ・・・・・・・・・・・・・・・・・・・・・・・・・・・・・ 351\\nV A N 사 업 자 ・・・・・・・・・・・・・・・・・・・・・・・・・・・・・・・・・・・・・・・・・・ 351\\nV a R ( V a l u e  a t  R i s k ) ・・・・・・・・・・・・・・・・・・・・・・・・・・ 352\\nV I X ・・・・・・・・・・・・・・・・・・・・・・・・・・・・・・・・・・・・・・・・・・・・・・・・・・・・・・・ 352'"
            ],
            "application/vnd.google.colaboratory.intrinsic+json": {
              "type": "string"
            }
          },
          "metadata": {},
          "execution_count": 15
        }
      ]
    },
    {
      "cell_type": "code",
      "source": [
        "documents[13]"
      ],
      "metadata": {
        "colab": {
          "base_uri": "https://localhost:8080/",
          "height": 125
        },
        "id": "At163rreczpH",
        "outputId": "7166c9d3-5e8d-480b-f231-60e9fc944245"
      },
      "execution_count": null,
      "outputs": [
        {
          "output_type": "execute_result",
          "data": {
            "text/plain": [
              "\"1ㄱ \\nㄱ\\n가계부실위험지수(HDRI)\\n가구의 소득 흐름은 물론 금융 및 실물 자산까지 종합적으로 고려하여 가계부채의 \\n부실위험을 평가하는 지표로, 가계의 채무상환능력을 소득 측면에서 평가하는 원리금상\\n환비율(DSR; Debt Service Ratio)과 자산 측면에서 평가하는 부채/자산비율(DTA; Debt \\nTo Asset Ratio)을 결합하여 산출한 지수이다. 가계부실위험지수는 가구의 DSR과 DTA 가 \\n각각 40%, 100%일 때 100의 값을 갖도록 설정되어 있으며, 동 지수가 100을 초과하는 \\n가구를 ‘위험가구’로 분류한다. 위험가구는 소득 및 자산 측면에서 모두 취약한 ‘고위험가구’,  \\n자산 측면에서 취약한 ‘고DTA가구’, 소득 측면에서 취약한 ‘고DSR가구’로 구분할 수 있다 . \\n다만 위험 및 고위험 가구는 가구의 채무상환능력 취약성 정도를 평가하기 위한 것이며 \\n이들 가구가 당장 채무상환 불이행, 즉 임계상황에 직면한 것을 의미하지 않는다 .\\n 연관검색어 : 총부채원리금상환비율(DSR)\\n가계수지\\n가정에서 일정 기간의 수입(명목소득)과 지출을 비교해서 남았는지 모자랐는지를 \\n표시한 것을 가계수지(household's total income and expenditure)라 한다. 가계수지 가 가계수지 ∙\""
            ],
            "application/vnd.google.colaboratory.intrinsic+json": {
              "type": "string"
            }
          },
          "metadata": {},
          "execution_count": 16
        }
      ]
    },
    {
      "cell_type": "code",
      "source": [
        "#12페이지 까지는 목차이므로 13페이지부터 실제로 사용\n",
        "documents = documents[13:]\n",
        "\n",
        "#맨 마지막페이지는 pdf자체에 대한 정보(데이터 아님)이므로 삭제\n",
        "documents = documents[:-1]"
      ],
      "metadata": {
        "id": "_1v9u7ipc1RY"
      },
      "execution_count": null,
      "outputs": []
    },
    {
      "cell_type": "code",
      "source": [
        "text = text[13:-1]"
      ],
      "metadata": {
        "id": "qy_KHystc2ww"
      },
      "execution_count": null,
      "outputs": []
    },
    {
      "cell_type": "markdown",
      "source": [
        "## 2. 임베딩"
      ],
      "metadata": {
        "id": "AWvuE6YIdQ4z"
      }
    },
    {
      "cell_type": "code",
      "source": [
        "embedding = OpenAIEmbeddings()\n",
        "vectordb = Chroma.from_documents(\n",
        "    documents=text,\n",
        "    embedding=embedding\n",
        ")"
      ],
      "metadata": {
        "id": "N46udiGCc4DO"
      },
      "execution_count": null,
      "outputs": []
    },
    {
      "cell_type": "code",
      "source": [
        "## vectordb가 갖고있는 요소 살펴보기\n",
        "for k in vectordb._collection.get():\n",
        "  print(k)"
      ],
      "metadata": {
        "colab": {
          "base_uri": "https://localhost:8080/"
        },
        "id": "x5lMskHOgEO_",
        "outputId": "58090a11-b28f-4655-b425-39dcba754f45"
      },
      "execution_count": null,
      "outputs": [
        {
          "output_type": "stream",
          "name": "stdout",
          "text": [
            "ids\n",
            "embeddings\n",
            "metadatas\n",
            "documents\n",
            "uris\n",
            "data\n",
            "included\n"
          ]
        }
      ]
    },
    {
      "cell_type": "code",
      "source": [
        "vectordb._collection.get(['documents'])"
      ],
      "metadata": {
        "colab": {
          "base_uri": "https://localhost:8080/"
        },
        "id": "W20uy3degdkF",
        "outputId": "1726b809-8bcf-4739-e8c5-5b160722ac43"
      },
      "execution_count": null,
      "outputs": [
        {
          "output_type": "execute_result",
          "data": {
            "text/plain": [
              "{'ids': [],\n",
              " 'embeddings': None,\n",
              " 'metadatas': [],\n",
              " 'documents': [],\n",
              " 'uris': None,\n",
              " 'data': None,\n",
              " 'included': ['metadatas', 'documents']}"
            ]
          },
          "metadata": {},
          "execution_count": 29
        }
      ]
    },
    {
      "cell_type": "code",
      "source": [
        "em = vectordb._collection.get(include=['embeddings'])['embeddings']"
      ],
      "metadata": {
        "id": "66jDUvjtghEw"
      },
      "execution_count": null,
      "outputs": []
    },
    {
      "cell_type": "code",
      "source": [
        "print(em[0])"
      ],
      "metadata": {
        "colab": {
          "base_uri": "https://localhost:8080/"
        },
        "id": "0fNU13_1gp8k",
        "outputId": "2573388e-8ab3-4191-b457-0b1d43bbe848"
      },
      "execution_count": null,
      "outputs": [
        {
          "output_type": "stream",
          "name": "stdout",
          "text": [
            "[-6.981877231737599e-05, -0.014997703023254871, 0.04050455242395401, -0.03214561194181442, -0.008641148917376995, 0.011261716485023499, -0.015992173925042152, -0.00467670289799571, -0.031984347850084305, -0.04117649048566818, 0.011967253871262074, 0.03641915321350098, 0.0022577187046408653, -0.0014891872415319085, -0.018518667668104172, 0.031124265864491463, 0.020413540303707123, -0.02585625648498535, 0.002479459159076214, -0.0068537890911102295, -0.008291739970445633, -0.008802414871752262, -0.02264438197016716, -0.011631283909082413, -0.006887386087328196, 0.0026071276515722275, 0.03910691291093826, -0.02030603028833866, -0.009124945849180222, 0.005983626935631037, 0.004152589477598667, -0.01164472196251154, -0.012585438787937164, 0.012713107280433178, 0.011302032507956028, 0.004985795821994543, 0.0010515862377360463, 0.0025483330246061087, 0.021313941106200218, -0.022160585969686508, 0.0065816533751785755, 0.006161690689623356, -0.004169388208538294, -0.0064170281402766705, -0.0122091518715024, 0.023141616955399513, -0.00210149260237813, -0.02095109224319458, -0.016408776864409447, 0.021864932030439377, 0.0027196777518838644, 0.04784213751554489, -0.0201985202729702, 0.017792973667383194, -0.020897338166832924, -0.004821170121431351, -0.02404201775789261, 0.01728229783475399, -0.02584281750023365, -0.03722548112273216, -0.005899634212255478, 0.00671604136005044, -0.035075269639492035, 0.01812894269824028, -0.0003462591557763517, -0.010166454128921032, -0.0038871734868735075, -0.0028053501155227423, -0.025332141667604446, -0.004135791212320328, 0.02781832031905651, 0.05286824703216553, -0.006107935681939125, -0.0057081314735114574, 0.0082245459780097, -0.007962489500641823, -0.000375026575056836, -0.019177168607711792, -0.025345580652356148, 0.020977970212697983, 0.04096147045493126, 0.0035344050265848637, 0.004878284875303507, -0.011019817553460598, 0.0010658649262040854, -0.009487793780863285, -0.02105860412120819, 0.042144086211919785, -0.004585991147905588, -0.003651994513347745, 0.018343964591622353, 0.001027228427119553, 0.016664113849401474, 0.010408352129161358, 0.0023669088259339333, 0.006752998102456331, -0.006430467125028372, 0.022160585969686508, -0.004216423723846674, -0.006517819128930569, -0.002316513331606984, -0.007996086962521076, -0.031151143833994865, -0.0017806412652134895, -0.03615037724375725, -0.01033443957567215, -0.005778685212135315, -0.020252276211977005, 0.00359151978045702, -0.017121033743023872, -0.00521761504933238, 0.008278301917016506, -0.021959003061056137, -0.024270476773381233, 0.03838121518492699, 0.005896274466067553, 0.025211192667484283, -0.0061583309434354305, -0.0025768904015421867, -0.0023937865626066923, 0.00746525451540947, 0.02283252589404583, 0.0169194508343935, -0.0007878497708588839, 0.004992515314370394, -0.002054456854239106, -0.02058824524283409, -0.01623407192528248, -0.024001700803637505, -0.026232542470097542, 0.028060218319296837, 0.008070000447332859, 0.016865694895386696, 0.017215104773640633, -0.023638853803277016, 0.004061877727508545, -0.02386731281876564, -0.016314703971147537, -0.01898902654647827, -0.04754648357629776, 0.025117121636867523, 5.072360636404483e-06, -0.00611129542812705, -0.02038666419684887, 0.020238837227225304, 0.024082334712147713, 0.018370840698480606, 0.048164669424295425, 0.01532023400068283, -0.0026407246477901936, 0.004381049424409866, -0.019096536561846733, 0.039321936666965485, -0.00032589095644652843, 0.015078336000442505, 0.01466173306107521, 0.01802143268287182, 0.012531682848930359, -0.011631283909082413, 0.0006417028489522636, -0.021394573152065277, -0.000579128332901746, 0.0059937057085335255, -0.0008164072642102838, -0.0017806412652134895, 0.027657054364681244, -0.011671599932014942, 0.011449859477579594, 0.011537211947143078, -0.011443139985203743, 0.008909924887120724, 0.004186186473816633, -0.007438377011567354, 1.4058903161640046e-06, 0.004522156435996294, -0.0008348855772055686, 0.0055771032348275185, -0.003594879526644945, -0.014876754023134708, -0.0154949389398098, -0.0026575231458991766, -0.008432847447693348, 0.020413540303707123, 0.013002040795981884, 0.027011992409825325, 0.003329463303089142, 0.023531343787908554, -0.0011758951004594564, 0.00017312957788817585, -0.01577715203166008, -0.0011523772263899446, 0.03768239915370941, 0.0014421514933928847, -0.013774772174656391, -0.5981879234313965, 0.0008113677031360567, -0.015024580992758274, 0.009366844780743122, -0.005362082272768021, 0.010677129030227661, 0.02827524021267891, 0.02264438197016716, -0.015185846015810966, 0.006705962121486664, -0.005483031272888184, 0.0026340053882449865, -0.010354597121477127, -0.008016245439648628, -0.004831248894333839, -0.02322225086390972, -0.024740835651755333, -0.013364888727664948, -0.006833631079643965, 0.007559326011687517, -0.00962218176573515, 0.023732924833893776, -0.02029259130358696, 0.03271004185080528, 0.019862549379467964, 0.020897338166832924, 0.03520965948700905, -0.018464913591742516, 0.004794292151927948, 0.03354324772953987, 0.005375520791858435, 0.02612503245472908, 0.004253380466252565, 0.0009205579408444464, 0.04875597357749939, 0.006665646098554134, 0.0057081314735114574, 0.0019217487424612045, 0.01253840234130621, 0.02265782095491886, -0.011127328500151634, -0.014554223045706749, 0.022012759000062943, -0.029054690152406693, 0.0033042654395103455, 0.01764514669775963, 0.014473590068519115, -0.022160585969686508, 0.022792208939790726, -0.019781917333602905, -0.031151143833994865, -0.012000850401818752, 0.007203198038041592, 0.004374329932034016, 0.009259333834052086, 0.0076802754774689674, 0.009104788303375244, -0.03625788539648056, 0.011201241984963417, 0.016771623864769936, 0.022523432970046997, 0.004491919185966253, 0.004512077663093805, -0.044589947909116745, -0.051631879061460495, 0.026555072516202927, -0.03225312381982803, -0.0075391680002212524, -0.008580674417316914, -0.021555839106440544, -0.0028238282538950443, -0.011859742924571037, -0.007283831015229225, -0.008022964000701904, 0.03558594733476639, -0.0009675937471911311, 0.058109380304813385, -0.0034100960474461317, -0.00019097798212897032, 0.02603095956146717, -0.017040399834513664, 0.012296504341065884, -0.006658926606178284, 0.01131547149270773, -0.013788211159408092, -0.02565467357635498, -0.007875137962400913, -0.026514757424592972, 0.0007492132135666907, -0.021824615076184273, 0.02932346612215042, 0.002907820977270603, 0.016408776864409447, -0.006218805909156799, -0.007639958988875151, 0.03542467951774597, -0.01221587136387825, 0.01897558756172657, 0.007048651576042175, -0.003329463303089142, -0.0009583545615896583, -0.02112579718232155, -0.001834396505728364, 0.008594113402068615, 0.025600917637348175, 0.024189844727516174, -0.022133708000183105, -0.017591390758752823, 0.04743897169828415, -0.03832746297121048, 0.009729691781103611, -0.022496555000543594, 0.007357744034379721, -0.00746525451540947, 0.009541548788547516, -0.029753508046269417, 0.034994639456272125, -0.015199285000562668, -0.008862889371812344, 0.003163158195093274, 0.006702602840960026, -0.0007286350592039526, 0.02112579718232155, 0.002791911130771041, -0.01194037590175867, -0.006000425200909376, 0.006689163856208324, -0.008889767341315746, 0.023410392925143242, -0.01794080063700676, -0.012390575371682644, -0.027092624455690384, 0.01963409036397934, -0.017403246834874153, 0.030694223940372467, -0.00343025429174304, 0.019002465531229973, -0.006648847367614508, 0.0019066300010308623, -0.02416296675801277, -0.01718822680413723, -0.03201122581958771, 0.017309175804257393, -0.018263330683112144, -0.021488646045327187, -0.02338351681828499, -0.018384279683232307, 0.002919579856097698, 0.01936531253159046, -0.011006379500031471, -0.011765671893954277, 0.002130049979314208, -0.026541635394096375, 0.02894718013703823, -0.00966921728104353, 0.004538955166935921, -0.00813047494739294, -0.004172747954726219, -0.02978038601577282, -0.0021367694716900587, -0.014419835060834885, 0.0019738238770514727, -0.025896571576595306, -0.019109975546598434, 0.015239601954817772, -0.022200901061296463, -0.029538488015532494, 0.007579484488815069, -0.01776609569787979, -0.027764566242694855, -0.02959224209189415, 0.01042851060628891, -0.01532023400068283, 0.028705282136797905, 0.010321000590920448, -0.00981704518198967, 0.0028792633675038815, 0.012518244795501232, -0.012323381379246712, -0.00981704518198967, 0.020077571272850037, -0.0030926044564694166, -0.03596223145723343, -0.003344581928104162, 0.03730611130595207, -0.006306157913058996, 0.004780853632837534, -0.004098834469914436, -0.017161348834633827, 0.025493407621979713, -0.0023887469433248043, 0.03230687975883484, -0.002592009026557207, -0.004031640477478504, -0.01436607912182808, 0.013196904212236404, 0.008493322879076004, 0.01767202466726303, -0.0006370832561515272, 0.025130560621619225, 0.05719554051756859, 0.012081483379006386, -0.007814662531018257, -0.024754274636507034, 0.01160440593957901, 0.0008168271742761135, 0.015279917977750301, -0.002911180490627885, 0.006705962121486664, 0.006920983083546162, 0.018572423607110977, -0.01099966000765562, 0.004740537144243717, -0.015629325062036514, -0.014446712099015713, 0.025399336591362953, -0.014796121045947075, 0.0112751554697752, 0.007075529545545578, 0.03249502182006836, -0.000404213962610811, -0.0030153312254697084, 0.012390575371682644, -0.0026860807556658983, -0.009373564273118973, 0.013304414227604866, -0.0073980605229735374, 0.015199285000562668, 0.006742918863892555, -0.002768393373116851, -0.02237560600042343, -0.0044381641782820225, -0.005150421056896448, 0.015521816909313202, 0.001273326575756073, 0.031231775879859924, 0.03222624585032463, 0.002660882892087102, 0.023329760879278183, -0.01278702076524496, -0.003494088537991047, 0.0201985202729702, 0.010804797522723675, -0.012202432379126549, 0.0075391680002212524, 0.022483116015791893, 0.033838901668787, 0.010092540644109249, -0.013042357750236988, 0.029457854107022285, -0.008876328356564045, 0.027374839410185814, 0.00023874871840234846, -0.011866462416946888, 0.007734030485153198, -0.008197668939828873, 0.006490941625088453, 0.02320881187915802, 0.013922599144279957, 0.03305945172905922, 0.00034205953124910593, -0.027374839410185814, -0.019298119470477104, -0.003329463303089142, 0.0073107085190713406, 0.0008911605691537261, 0.0027045588940382004, -0.02178429812192917, 0.0009104788769036531, -0.01333801168948412, -0.001086863107047975, 0.004854767117649317, 0.001024708617478609, -0.018760567530989647, 0.02132738009095192, -0.0058727567084133625, 0.0441599041223526, -0.013647103682160378, 0.0220799520611763, 0.01579059101641178, -0.026353491470217705, -0.007552606984972954, 0.0063195968978106976, 0.02076295018196106, -0.011013098992407322, -0.029242834076285362, -0.026004081591963768, -0.01282733678817749, -0.001421153312548995, 0.037601765245199203, -0.025506846606731415, -0.0011884940322488546, 0.01254512183368206, -0.011167644523084164, -0.03402704373002052, -0.008547077886760235, 0.00671604136005044, -0.011006379500031471, -0.01306251622736454, 0.002244279719889164, 0.016758184880018234, -0.021676788106560707, -0.00718975905328989, -0.007599642500281334, 0.014769244007766247, 0.012699668295681477, -0.024687079712748528, -0.02846338227391243, 0.007088968064635992, -0.007364463526755571, -0.010166454128921032, -0.02322225086390972, -0.021260185167193413, 0.006830271333456039, 0.009030874818563461, -0.0005001754034310579, 0.012753423303365707, 0.00014352219295687973, 0.03916066884994507, 0.014231691136956215, 0.00343025429174304, -0.01886807754635811, -0.011826146394014359, 0.0017109274631366134, 0.05015360936522484, -0.010569618083536625, -0.005923151969909668, 0.008809134364128113, -0.010253806598484516, -0.006920983083546162, -0.0003964446659665555, -0.03606974333524704, -0.00018457355326972902, 0.009003996849060059, 0.020736072212457657, -0.008379092440009117, 0.03184995800256729, -0.010845113545656204, 0.008768817409873009, 0.005200816784054041, -0.004942119587212801, -0.048917241394519806, 0.0187740046530962, 0.01067040953785181, -0.00905775185674429, -0.013909160159528255, 0.011254996992647648, 0.04332669824361801, -0.015441183932125568, 0.024955855682492256, 0.028221484273672104, 0.012074763886630535, 0.009743130765855312, -0.00479093287140131, -0.011711915954947472, 0.0035142467822879553, -0.02988789603114128, 0.020359786227345467, -0.009494513273239136, 0.028705282136797905, 0.013075954280793667, -0.0024441820569336414, -0.004337373189628124, 0.006349834147840738, 0.04426741600036621, 0.01634158194065094, 0.011396104469895363, -0.0009230777504853904, -0.008244704455137253, -0.026756655424833298, 0.008237984962761402, 0.0048514073714613914, -0.018639616668224335, -0.010213489644229412, 0.0248886626213789, -0.028033342212438583, -0.02612503245472908, -0.005718210246413946, 0.009501232765614986, -0.010200051590800285, -0.008029683493077755, 0.008311898447573185, -0.008237984962761402, -0.02414952777326107, -0.001469029113650322, -0.03830058500170708, 0.030694223940372467, -0.005301607772707939, -0.01545462291687727, -0.004028280731290579, -0.012760142795741558, 0.0038233392406255007, 0.0005497309612110257, 0.009366844780743122, 0.0014824678655713797, -0.023249128833413124, -0.026004081591963768, -0.028678404167294502, 0.008923363871872425, 0.006803393829613924, 0.006894105579704046, -0.000608945672865957, -0.014769244007766247, 0.014030109159648418, -0.008466444909572601, -0.007041932549327612, -0.012074763886630535, -0.0319574698805809, -0.001698328647762537, 0.014527345076203346, -0.021112358197569847, -0.029914774000644684, -0.005395679268985987, -0.0011280194157734513, -0.0020426977425813675, -0.008950241841375828, 0.011470017954707146, -0.007525729015469551, -0.009279492311179638, -0.007156162057071924, 0.017967676743865013, 0.010515863075852394, 0.003927489742636681, -0.016032490879297256, 0.004622947424650192, 0.011805987916886806, -0.01662379689514637, -0.00718975905328989, 0.004780853632837534, 0.012309943325817585, -0.0048850043676793575, -0.005956748966127634, 0.011718635447323322, 0.01701352186501026, 0.010589776560664177, -0.02584281750023365, 0.0035680020228028297, -0.0050227525644004345, 0.003893892979249358, -0.008311898447573185, 0.00929965078830719, 0.003927489742636681, 0.018518667668104172, -0.015629325062036514, -0.006040741689503193, -0.0046027894131839275, 0.01999693736433983, 0.01254512183368206, -0.030882367864251137, 0.02375980280339718, -0.01576371304690838, -0.012854214757680893, -0.006447265390306711, -0.0019973418675363064, -0.021394573152065277, 0.03596223145723343, 0.00025932685821317136, -0.01681194081902504, 0.008022964000701904, -0.0017352853901684284, -0.032629407942295074, -0.026165347546339035, -0.02124674618244171, -0.024740835651755333, -0.01306251622736454, -0.026528196409344673, -0.00718303956091404, -0.02236216701567173, 0.021300502121448517, -0.031419917941093445, -0.0064506251364946365, 0.0007836501463316381, -0.008755379356443882, 0.008701623417437077, 0.0018276771297678351, 0.009595303796231747, 0.008513480424880981, 0.00901071634143591, 0.0058525982312858105, -0.02734796330332756, -0.023249128833413124, -0.0058525982312858105, 0.053137023001909256, 0.02742859534919262, 0.031312406063079834, 0.019768478348851204, 0.01489019300788641, 0.025789061561226845, 0.003971165977418423, -0.010690567083656788, -0.0025180955417454243, 0.01831708662211895, -0.03362388163805008, 0.04112273454666138, 0.015091774985194206, 0.027603300288319588, 0.02507680468261242, -0.012404014356434345, -0.001366558251902461, 0.03956383466720581, -0.009588584303855896, -0.012975163757801056, -0.031016755849123, -0.01348583772778511, -0.014151059091091156, -0.00577532546594739, -0.02087046019732952, -0.009279492311179638, -0.050503019243478775, -0.031715571880340576, 0.008661307394504547, 0.011799268424510956, 0.028248362243175507, 0.014822999015450478, 0.017336053773760796, -0.030936121940612793, 0.03940257057547569, 0.021098919212818146, -0.0017369651468470693, -0.0053184060379862785, -0.017631707713007927, -0.017255421727895737, -0.02048073522746563, 0.0025113762822002172, -0.003221952822059393, 0.012464488856494427, -0.022617504000663757, 0.004078675992786884, -0.0026020880322903395, -0.006544696632772684, -0.01394947711378336, -0.036123499274253845, 0.022993791848421097, -0.009736411273479462, -0.024001700803637505, -0.0074518159963190556, -0.005116824060678482, -0.011248277500271797, 0.022227779030799866, 0.027952708303928375, -0.009313089773058891, 0.015333672985434532, -0.00204437761567533, -0.01099294051527977, 0.005385600030422211, 0.03889189288020134, 0.043165434151887894, -0.015333672985434532, 0.03523653745651245, 0.026528196409344673, 0.001930147991515696, -0.037252359092235565, 0.012860934250056744, -0.010939185507595539, -0.013801650144159794, 0.02416296675801277, -0.007915453985333443, -0.016879133880138397, -0.019419068470597267, 0.024552691727876663, -0.006030662450939417, -0.04356859624385834, -0.019486261531710625, 0.02435111068189144, -0.00359151978045702, 0.020910777151584625, -0.005167219787836075, -0.012101641856133938, -0.016287827864289284, 0.011449859477579594, -0.0047102998942136765, 0.011732074432075024, -0.02115267515182495, -0.01532023400068283, 0.018088625743985176, 0.03464522957801819, 0.006020583678036928, 0.03332822769880295, 0.006527898367494345, -0.03042544797062874, -0.02554716356098652, -0.01560244895517826, -0.016032490879297256, 0.02612503245472908, -0.01287437230348587, 0.03394641354680061, -0.00933996681123972, 0.021864932030439377, 0.0155083779245615, -0.02535901963710785, -0.010569618083536625, -0.007330866530537605, -0.028033342212438583, 0.03859623894095421, -0.008056561462581158, -0.02010444924235344, 0.023423831909894943, -0.014849876053631306, 0.02178429812192917, -0.010966062545776367, -0.010959343053400517, -0.00967593677341938, -0.006359913386404514, -0.005761886481195688, 0.019096536561846733, 0.01792736165225506, 0.002141808858141303, -0.0036284765228629112, -0.021018287166953087, 0.010529302060604095, -0.05345955491065979, -0.019795356318354607, 0.03459147363901138, 0.06267856806516647, -0.003302585566416383, -0.0010213488712906837, -0.010065662674605846, 0.03136616200208664, -0.02265782095491886, -0.01718822680413723, -0.007861698977649212, 0.01889495551586151, -0.00812375545501709, 0.022012759000062943, 0.01131547149270773, 0.013613506220281124, 0.011026537045836449, 0.006175129674375057, 0.0041660284623503685, -0.005560304503887892, 0.02303410694003105, -0.022792208939790726, -0.015924979001283646, -0.00507314782589674, 0.007095687557011843, 0.0031429999507963657, -0.008936802856624126, 0.03150055184960365, -0.011691758409142494, -0.0030657267197966576, -0.003611678024753928, -0.01661035791039467, -0.017349492758512497, -0.000451459753094241, 0.005634217988699675, 0.01437951810657978, 0.019875988364219666, -0.009501232765614986, 0.0013715977547690272, -0.017591390758752823, 0.005167219787836075, -0.023155055940151215, -0.031178021803498268, -0.009178700856864452, -0.010737603530287743, 0.037144847214221954, -0.011006379500031471, 0.0015370630426332355, -0.006752998102456331, -0.03940257057547569, -0.008197668939828873, -0.003418495412915945, -0.009245894849300385, -0.0004892563447356224, 0.003917410504072905, 0.0047102998942136765, 0.015844346955418587, 0.0187874436378479, 0.013230500742793083, -0.020265713334083557, -0.012404014356434345, -0.0025684910360723734, -0.02385387383401394, -0.01616687886416912, -0.014728927053511143, 0.052384451031684875, -0.0017991196364164352, -0.02518431469798088, -0.004639746155589819, 0.008251423947513103, -0.055099088698625565, -0.004061877727508545, 0.013855405151844025, 0.03125865012407303, 0.003621757263317704, 0.003914050757884979, -0.014594539068639278, 0.02124674618244171, 0.007828101515769958, 0.018007993698120117, -0.02198588103055954, -0.008748659864068031, 0.01748388074338436, -0.02378668077290058, 0.011006379500031471, 0.005278089549392462, -0.01748388074338436, 0.0047203791327774525, 0.008903206326067448, 0.0005123543087393045, 0.010636812075972557, 0.05794811621308327, 0.001065024989657104, -0.0035008080303668976, 0.029565364122390747, 0.031016755849123, -0.004636386409401894, -0.014755805023014545, 0.020507613196969032, -0.02132738009095192, 0.002859105123206973, 0.0319574698805809, -0.007949051447212696, -0.03316695988178253, 0.027173258364200592, -0.004518797155469656, -0.013069234788417816, -0.0035243257880210876, -0.005170579068362713, -0.01755107380449772, 0.008580674417316914, -0.00780122447758913, 0.008903206326067448, 0.003890533233061433, -0.0018243173835799098, 0.008862889371812344, 0.017537634819746017, -0.01935187354683876, -0.007821382023394108, 0.012558560818433762, 0.00029271389939822257, 0.005664455238729715, 0.021569278091192245, 0.0029951729811728, 0.034618351608514786, -0.034430209547281265, 0.02048073522746563, -0.018935270607471466, 0.010818235576152802, -0.014177936129271984, -0.01955345645546913, -0.030559835955500603, 0.027294207364320755, 0.019204046577215195, -0.046847663819789886, 0.014245130121707916, -0.016838818788528442, 0.0017537636449560523, 0.00643382640555501, -0.022308412939310074, 0.012155396863818169, -0.031151143833994865, 0.0035310452803969383, 0.013936038129031658, -0.00816407147794962, -0.0026373649016022682, -0.02883967012166977, -0.01765858568251133, -0.015279917977750301, 0.03765552118420601, 0.22469677031040192, -0.005227694287896156, 0.019620651379227638, 0.014070426113903522, 0.01498426403850317, 0.007579484488815069, 0.010159734636545181, -0.0024223439395427704, -0.022012759000062943, 0.021179553121328354, -0.050798673182725906, 0.0034268945455551147, 0.007243514526635408, -0.002622246276587248, -0.007787785958498716, -0.032629407942295074, -0.0432460680603981, -0.01662379689514637, -0.0026424045208841562, 0.01999693736433983, 0.0019032703712582588, 0.02789895422756672, -0.010092540644109249, -0.007505571004003286, 0.01811550371348858, -0.015468060970306396, 0.0009617142495699227, 0.00018320867093279958, 0.027925830334424973, 0.011960534378886223, -0.014554223045706749, 0.00022971953148953617, 0.01282733678817749, -0.006420387886464596, -0.02322225086390972, 0.002261078217998147, 0.038085561245679855, 5.1392918976489455e-05, 0.028812792152166367, -0.0015521816676482558, 0.009911117143929005, 0.020037254318594933, 0.020453857257962227, -0.015750275924801826, 0.027979586273431778, 0.018653055652976036, -0.010327720083296299, -0.013788211159408092, -0.026004081591963768, 0.01249808631837368, -0.02873215824365616, -0.006648847367614508, 0.01992974430322647, 0.026447562500834465, 0.00455575343221426, 0.013855405151844025, -0.004102194216102362, -0.01075104158371687, -0.004186186473816633, 0.027079187333583832, -0.012094922363758087, 0.039805732667446136, -0.008473164401948452, 0.015091774985194206, -0.01765858568251133, -0.009958152659237385, -0.01775265671312809, -0.005244492553174496, 0.015817468985915184, -0.035075269639492035, -0.010206770151853561, 0.0005119343404658139, -0.01833052560687065, 0.011738793924450874, -0.03679543733596802, -0.024928977712988853, 0.031876835972070694, 0.013505996204912663, 0.029081568121910095, 0.032844431698322296, -0.011140767484903336, -0.0006870587822049856, -0.0028675044886767864, 0.006218805909156799, 0.004337373189628124, -0.025600917637348175, 0.004266819451004267, -0.0032404311932623386, -0.00817751046270132, -0.010294122621417046, 0.016099683940410614, 0.02640724554657936, -0.017510758712887764, -0.010697286576032639, -0.01992974430322647, -0.01756451278924942, -0.0007198158418759704, -0.022026197984814644, -0.03421518951654434, -0.019499700516462326, -0.008043122477829456, 0.07885889708995819, 0.0110332565382123, 0.023840434849262238, 0.024283915758132935, -0.0033546609338372946, -0.0048144506290555, 0.008661307394504547, -0.006453984882682562, -0.044025518000125885, 0.002613847143948078, -0.03821995109319687, 0.01830364763736725, 0.00014562200522050261, -0.012269626371562481, 0.007055371068418026, 0.025506846606731415, 0.015199285000562668, 0.007969208993017673, -0.0020947731100022793, -0.00047035806346684694, -0.02940410003066063, -0.004622947424650192, 0.002311473712325096, 0.014876754023134708, -0.006077698431909084, -0.02500961162149906, 0.02359853684902191, -0.0027431955095380545, -0.019701285287737846, -0.007351025007665157, -0.03174244984984398, 0.026702899485826492, -0.02068231627345085, -0.024834906682372093, 0.036876071244478226, 0.00683699082583189, 0.001366558251902461, -0.004952198825776577, 0.007599642500281334, -0.016704430803656578, -0.012524963356554508, -0.010744323022663593, -0.0077138724736869335, 0.02112579718232155, -0.015185846015810966, 0.013069234788417816, -0.003215233562514186, -0.02058824524283409, -0.015535254962742329, -0.010072382166981697, 0.001189333968795836, 0.019096536561846733, -0.025721868500113487, 0.00788857601583004, 0.004636386409401894, -0.04649825766682625, -0.018720250576734543, 0.04461682587862015, 0.03080173395574093, -0.036687929183244705, 0.01700008288025856, 0.04676703363656998, -0.03787054121494293, 3.8899033825146034e-05, 0.004075316712260246, -0.16965144872665405, 0.01626094989478588, 0.023625414818525314, 0.0007521529914811254, -0.014272008091211319, 0.015575571916997433, 0.003463851287961006, 0.008103596977889538, -0.025224631652235985, -0.016475969925522804, 0.015857785940170288, -0.020924216136336327, -0.025506846606731415, -0.029565364122390747, 0.00016357543063350022, 0.020642001181840897, -0.0469820536673069, 0.015158968977630138, 0.009904397651553154, 0.010818235576152802, 0.02742859534919262, -0.01964752934873104, -0.008231265470385551, 0.01607280597090721, 0.012565280310809612, 0.02303410694003105, -0.015347111970186234, 0.030129794031381607, 0.014809560030698776, -0.004831248894333839, -0.00982376467436552, 0.024270476773381233, 0.025318702682852745, -0.012914689257740974, -0.010287403129041195, 0.024673640727996826, -0.008856169879436493, 0.009333247318863869, -0.007868418470025063, 0.01747044175863266, 0.01943250745534897, 0.00840597040951252, 0.010892149060964584, 0.03174244984984398, -0.031016755849123, 0.02574874460697174, 0.010025346651673317, -0.004192905966192484, -0.0016739708371460438, 0.014634856022894382, -0.0036755125038325787, -0.01576371304690838, 0.014903631992638111, 0.01067040953785181, -0.0030035723466426134, 0.022106830030679703, 0.016556603834033012, -0.005264651030302048, 0.003005252219736576, 0.03585472330451012, -0.01905621960759163, -0.007854979485273361, 0.029914774000644684, 0.006934422068297863, 0.016570042818784714, -0.009313089773058891, -0.011698477901518345, -0.0074316575191915035, -0.04174092039465904, -0.005802202969789505, -0.014809560030698776, 0.008002806454896927, 0.013237220235168934, -0.024740835651755333, 0.00872850138694048, 0.0010599854867905378, -0.005315046291798353, 0.004737177398055792, -0.01708071678876877, 0.013129710219800472, -0.013687419705092907, 0.00905775185674429, -0.03203810378909111, 0.008090157993137836, -0.027200136333703995, 0.01498426403850317, 0.020158203318715096, -0.008096877485513687, 0.0067126816138625145, -0.008338776417076588, 0.023934507742524147, -0.002032618736848235, -0.0119806919246912, 0.008157351985573769, 0.004182826727628708, 0.017241982743144035, -0.006070978939533234, 0.0033781789243221283, -0.018263330683112144, 0.004703580401837826, -0.0066992430947721004, 0.011107170023024082, -0.03203810378909111, 0.019096536561846733, 0.026232542470097542, -0.00014488707529380918, -0.00314803933724761, 0.0062658414244651794, 0.03252189978957176, -0.0057316492311656475, -0.005728289484977722, 0.007781066466122866, 0.013962915167212486, 0.021959003061056137, 0.006457344628870487, 0.035370923578739166, -0.027079187333583832, -0.01626094989478588, 0.012027728371322155, -0.010260526090860367, 0.04061206057667732, -0.028328994289040565, -0.012115079909563065, 0.008526919409632683, -0.005758526735007763, -0.014742366038262844, -0.06649518758058548, -0.024942416697740555, 0.009702814742922783, 0.03402704373002052, 0.010233648121356964, 0.025896571576595306, -0.0026004083920270205, 0.006097856443375349, -0.024566130712628365, 0.01098622102290392, -0.05157812312245369, -0.0036385557614266872, -0.02733452431857586, 0.009998468682169914, 0.03082861192524433, 0.006064259447157383, 0.013284255750477314, -0.019217485561966896, 0.0164490919560194, 0.020413540303707123, 0.01841115765273571, -0.0046128686517477036, -0.005755166988819838, -0.025789061561226845, -0.02771081030368805, 0.01310955174267292, -0.01906965859234333, 0.014151059091091156, 0.003961086738854647, 0.00939372181892395, 0.0037897422444075346, -0.019499700516462326, -0.007438377011567354, -0.0003330303297843784, 0.004418006166815758, -0.034242067486047745, -0.013546312227845192, -0.018343964591622353, 0.02160959504544735, -0.016180315986275673, 0.008768817409873009, 0.020736072212457657, 0.0028070297557860613, 0.0033143446780741215, 0.01577715203166008, -0.02160959504544735, -0.01193365640938282, 0.020789828151464462, -0.009003996849060059, -0.016475969925522804, -0.020830143243074417, -0.019459383562207222, -0.037332989275455475, -0.009413880296051502, 0.041767798364162445, 0.018290208652615547, 0.03797805309295654, 0.007109126541763544, -0.009991750121116638, -0.00896368082612753, -0.013600068166851997, 0.013075954280793667, -0.02300722897052765, 0.008842730894684792, 0.02178429812192917, -0.00639351038262248, -0.015911540016531944, -0.005812282208353281, -0.006900825072079897, -0.020628562197089195, -0.004565832670778036, 0.004585991147905588, -0.026340052485466003, 0.036392275243997574, -0.05466904863715172, 0.005597261246293783, -0.02959224209189415, 0.007270392030477524, 0.001982223242521286, -0.018558984622359276, -0.0007949891733005643, -0.031984347850084305, 0.012242749333381653, -0.011705196462571621, -0.026716338470578194, 0.004928681068122387, 0.011087012477219105, -0.004125711973756552, -0.006907544564455748, -0.025211192667484283, 0.013989793136715889, 0.027657054364681244, 0.014621417038142681, -0.017981115728616714, 0.017712339758872986, 0.012437611818313599, 0.011510333977639675, 0.010683847591280937, 0.010603215545415878, 0.02076295018196106, -0.001946946489624679, -0.03351636976003647, -0.05714178830385208, 0.027872076258063316, 0.01982223428785801, -0.024579569697380066, -0.02752266637980938, -0.0015253040473908186, 0.019392190501093864, -0.013573190197348595, -0.00251305615529418, 0.010347877629101276, -0.022872840985655785, 0.027213575318455696, -0.017255421727895737, -0.02366573177278042, -0.03937569260597229, -0.05762558430433273, -0.003000212600454688, 0.012860934250056744, 0.00029250391526147723, 0.021287063136696815, 0.007996086962521076, 0.00014898170775268227, 0.012424172833561897, 0.0220799520611763, -0.030855489894747734, -0.009219017811119556, -0.030747979879379272, 0.009138384833931923, 0.006746278610080481, -0.009145104326307774, 0.014406396076083183, -0.022886279970407486, -0.0035142467822879553, 0.01098622102290392, -0.001960385125130415, -0.018061749637126923, 0.008755379356443882, -0.004925321321934462, 0.040370162576436996, 0.02169022709131241, -0.03238750994205475, -0.009030874818563461, -0.001712607336230576, -0.01577715203166008, -0.024754274636507034, 0.01187990140169859, -0.006453984882682562, 0.013909160159528255, 0.028893424198031425, 0.0001668301410973072, 0.05176626518368721, 0.024485498666763306, 0.010650251060724258, -0.027213575318455696, 0.011113889515399933, -0.023826995864510536, 0.008197668939828873, 0.015562132932245731, 0.018532106652855873, -0.013210342265665531, 0.02077638916671276, -0.00789529550820589, 0.021313941106200218, -0.017981115728616714, -0.003957726992666721, -0.033005695790052414, -0.013895721174776554, -0.003719188505783677, -0.008856169879436493, -0.03558594733476639, -0.00905775185674429, -0.02715981937944889, -0.00028599449433386326, 0.016086244955658913, -0.007807943969964981, 0.004273538943380117, -0.024203283712267876, 0.005052989814430475, 0.00289942161180079, 0.013936038129031658, -0.002553372411057353, -0.011503614485263824, -0.01700008288025856, -0.002983414102345705, 0.0025164156686514616, 0.01745700277388096, -0.00554686551913619, 0.012726545333862305, -0.0007403939962387085, -0.005113464314490557, -0.03206498175859451, 0.02197244204580784, 0.006084417924284935, -0.01522616297006607, 0.020158203318715096, 0.02320881187915802, -0.007579484488815069, -0.0002618466387502849, -0.008231265470385551, 0.002911180490627885, 0.02621910348534584, 0.007512290496379137, 0.014594539068639278, -0.01729573681950569, -0.0068437098525464535, 0.011470017954707146, -0.0005976067041046917, -0.04343421012163162, -0.02087046019732952, 0.01944594644010067, 0.003554563270881772, -0.010959343053400517, -0.009158543311059475, 0.005056349560618401, 0.0016277749091386795, 0.0053083267994225025, -0.003494088537991047, -0.03359700366854668, -0.02929658815264702, 0.0005010153399780393, 0.0029850939754396677, 0.01521272398531437, 0.01616687886416912, 0.0064405458979308605, 0.04574568197131157, 0.013895721174776554, 0.033489491790533066, -0.007270392030477524, 0.0071494425646960735, -0.004582631401717663, -0.021770859137177467, 0.00901071634143591, -0.022402483969926834, -0.03580096736550331, -0.013841966167092323, 0.0009961511241272092, 0.021219870075583458, 0.008842730894684792, 0.008560516871511936, 0.07208573073148727, 0.006968019064515829, -0.007949051447212696, -0.002096452983096242, 0.018384279683232307, 0.008862889371812344, -0.002835587365552783, -0.014473590068519115, -0.009138384833931923, -0.01605936698615551, 0.011758952401578426, -0.032925061881542206, -0.012692948803305626, -0.04397176206111908, 0.00639351038262248, 0.00968265626579523, -0.016475969925522804, 0.02002381533384323, -0.018921831622719765, 0.011853023432195187, 0.042224716395139694, -0.013163306750357151, -0.027925830334424973, -0.00930637028068304, -0.006017223931849003, -0.01005894411355257, 0.010018627159297466, -0.00929293129593134, 0.004979076329618692, -0.03271004185080528, -0.0225637499243021, 0.00897040031850338, -0.0169194508343935, -0.02234872803092003, -0.006242323666810989, 0.004055158235132694, -0.027791442349553108, -0.0028372672386467457, -0.01005222462117672, -0.013183465227484703, -0.010885429568588734, 0.03561282530426979, -0.0015269839204847813, -0.012793740257620811, 0.0045591131784021854, -0.004407926928251982, 0.002592009026557207, -0.005042910575866699, -0.012692948803305626]\n"
          ]
        }
      ]
    },
    {
      "cell_type": "markdown",
      "source": [
        "### 유사도 높은 문서 추출 -> 답변"
      ],
      "metadata": {
        "id": "zo1lCju4g9oC"
      }
    },
    {
      "cell_type": "code",
      "source": [
        "#유사도가 가장 높은 2개의 문서를 추출하는 검색기\n",
        "result = vectordb.as_retriever(search_kwargs={\"k\":2})"
      ],
      "metadata": {
        "id": "wU7_Fkifgxs1"
      },
      "execution_count": null,
      "outputs": []
    },
    {
      "cell_type": "code",
      "source": [
        "docs = result.get_relevant_documents(\"비트코인이 뭐야?\")\n",
        "print(len(docs))\n",
        "print(\"----------\")\n",
        "print(docs[0])\n",
        "\n",
        "print(\"----------\")\n",
        "print(docs[1])"
      ],
      "metadata": {
        "colab": {
          "base_uri": "https://localhost:8080/"
        },
        "id": "b0MNYOlnhElo",
        "outputId": "463c3a00-44df-46c7-e9d6-f54475701c8c"
      },
      "execution_count": null,
      "outputs": [
        {
          "output_type": "stream",
          "name": "stderr",
          "text": [
            "/usr/local/lib/python3.10/dist-packages/langchain_core/_api/deprecation.py:139: LangChainDeprecationWarning: The method `BaseRetriever.get_relevant_documents` was deprecated in langchain-core 0.1.46 and will be removed in 0.3.0. Use invoke instead.\n",
            "  warn_deprecated(\n"
          ]
        },
        {
          "output_type": "stream",
          "name": "stdout",
          "text": [
            "2\n",
            "----------\n",
            "page_content='139ㅂ \n",
            "비트코인\n",
            "비트코인(bitcoin)은 가상통화(암호통화)이자 디지털 지급시스템이다. 비트코인 시스템\n",
            "은 중앙 저장소 또는 단일 관리자가 없기 때문에 최초의 탈중앙화된 디지털통화라고 불린다 . \n",
            "이는 사토시 나카모토라는 사람(집단)에 의해 만들어져서 2009년 개방형 소프트웨어로 \n",
            "배포되었다. 이 시스템은 공유형(peer-to-peer)이며, 거래는 중개자 없이 블록체인 소프트\n",
            "웨어를 이용하는 참여자(nodes) 사이에 직접 이뤄진다. 이런 거래들은 공유(P2P) 네트워크\n",
            "상 참여자의 작업증명(proof-of-work)을 통해 검증되고 공개된 분산원장인 블록체인에 \n",
            "기록된다. 승인된 거래의 새 그룹인 한 블록은 대략 10분에 한 번씩 만들어져서 블록체인에 \n",
            "추가되고 신속하게 모든 참여자에게 보내어진다. 비트코인은 대규모 전기를 사용하는 \n",
            "컴퓨터 처리 능력(power)을 활용해서 이뤄지는 기록보관 서비스인 채굴(mining)에 대한 \n",
            "보상으로 발행되고 있으며 다른 통화 ･상품･용역 등과 교환되어가고 있다. 중앙은행이 \n",
            "발행한 법정화폐가 아닌 비트코인은 비트코인 플랫폼에서 거래되며 투자대상으로서도 \n",
            "관심을 받고 있다. 하지만 급등한 가격 및 심한 변동 폭으로 거품논란이 크다. 또한 익명성으\n",
            "로 자금세탁 등 불법거래에 악용될 소지가 많아 중국 등 일부 국가에서 비트코인 등 가상통\n",
            "화의 거래를 규제하고 있다. 일본의 경우 비트코인의 거래이익에 대해 세금을 부과한다 . \n",
            "비트코인은 추가되는 한 블록당 새로 12.5비트코인을 보상하는데(2016.7월 현재), 21 만개\n",
            "가 채굴될 때(대략 4년)마다 그 보상이 반으로 줄어든다. 비트코인의 총량은 21 백만개이며 \n",
            "2140년경 모두 채굴될 것으로 전망된다. 비트코인은 그 시스템의 설계시 그 수량을 한정시\n",
            "켜 놓았기 때문에 원칙적으로 인플레이션에 의해 가치가 떨어질 수 있는 화폐와 다른 \n",
            "속성을 지닌다. 한편 2017년 8월 1일 비트코인(classic bitcoin)에서 ‘비트코인캐시’(BCH)가 , \n",
            "10월 25일 ‘비트코인골드’(BTG)가 하드포크(hard-fork)되어 별도로 거래되고 있다 .\n",
            " 연관검색어 : 가상통화, 작업증명, 블록체인\n",
            "빅데이터\n",
            "빅데이터(big data)란 복잡하고 다양한 대규모 데이터세트 자체는 물론 이 데이터세트\n",
            "로부터 정보를 추출하고 결과를 분석하여 더 큰 가치를 창출하는 기술을 뜻한다. 수치 \n",
            "데이터 등 기존의 정형화된 정보뿐 아니라 텍스트 ･이미지 ･오디오 ･로그기록 등 여러 \n",
            "형태의 비정형 정보가 데이터로 활용된다. 최근 모바일기기와 SNS 이용 보편화, 사물인빅데이터 ∙' metadata={'page': 155, 'source': '/content/2020_경제금융용어 700선_게시 .pdf'}\n",
            "----------\n",
            "page_content='136경제금융용어  700선\n",
            "간 대화의 깊이와 폭도 더욱 넓어지고 있다. 브릭스는 현재의 경제성장 속도와 앞으로의 \n",
            "발전 전망에 비추어 신흥 경제대국으로 발돋움할 가능성이 높은 나라들을 하나의 경제권으로 \n",
            "묶은 개념으로 볼 수 있는데, 실제로도 브릭스 국가들은 공통적으로 거대한 영토와 노동력 , \n",
            "풍부한 지하자원 등 경제대국으로 성장할 수 있는 잠재력을 갖춘 것으로 평가되고 있다 .\n",
            "블록체인\n",
            "블록체인(block chain)은 ① 일정 시간 동안 발생한 모든 거래정보를 블록 (block) \n",
            "단위로 기록하여 ② 모든 구성원들에게 전송하고 ③ 블록의 유효성이 확보될 경우 \n",
            "이 새 블록을 ④ 기존의 블록에 추가 연결(chain)하여 보관하는 방식의 알고리즘이다 . \n",
            "각 블록은 이전 블록에 대한 연결자인 해시포인터(a hash pointer, 위변조 점검 수단 ), \n",
            "시간표시 및 거래데이터를 포함한다. 블록체인은 효율적이고 검증 가능한 방식으로 \n",
            "거래를 기록할 수 있는 개방된 분산원장 즉, 데이터베이스 역할을 한다. 이는 참여자간 \n",
            "공유(peer to peer) 네트워크가 집단적으로 새 블록을 검증하기 위한 프로토콜에 따라 \n",
            "관리된다. 그래서 만약 누군가 거래기록을 조작하려면 참여자간 연결된 모든 블록을 \n",
            "새 블록 생성 이전에 조작해야한다. 즉 일정 시간 안에 수많은 블록을 모두 조작해야하는\n",
            "데, 이는 사실상 불가능하므로 보안성이 높은 것이다. 이 블록체인 덕분에 새로운 단위가\n",
            "치의 거래가 오직 한번만 이뤄짐으로써, 사기행위와 같은 이중 지급(double spending) \n",
            "문제를 해결할 수 있게 되었다. 또한 블록체인에서는 ‘제3의 기관’이 필요 없는 탈중앙화\n",
            "와 중개기관을 거치지 않는 탈중개화가 이뤄지기 때문에 거래비용이 획기적으로 낮아진\n",
            "다. 그래서 블록체인은 비트코인 ･이더리움(Etherium) 등 가상통화 운용의 기반이 될 \n",
            "뿐만 아니라 스마트계약, 증권 발행 및 거래, 해외송금 및 자금이체, 무역금융, 부동산 \n",
            "등기, 고가품(예: 다이아몬드)의 정품 인증, 디지털 ID 관리, 전자투표, 개인건강기록 \n",
            "관리 등 여러 분야에서 무한한 혁신 잠재력을 지니고 있다 . \n",
            " 연관검색어 : 분산원장기술, 스마트계약, 비트코인, 금융의 탈집중화, 금융의 탈중개화\n",
            "블록체인과 탈중앙화 \n",
            "블록체인은 공유 네트워크를 통해 데이터를 저장함으로써 데이터의 중앙 집중 보관에 \n",
            "따르는 리스크를 제거한다. 탈중앙화(decentralization)된 블록체인은 계획되지 않은' metadata={'page': 152, 'source': '/content/2020_경제금융용어 700선_게시 .pdf'}\n"
          ]
        }
      ]
    },
    {
      "cell_type": "markdown",
      "source": [
        "## QA체인"
      ],
      "metadata": {
        "id": "TKok3XgviOIx"
      }
    },
    {
      "cell_type": "code",
      "source": [
        "llm = ChatOpenAI(model_name=\"gpt-4o\",\n",
        "                 streaming=True,\n",
        "                 temperature=0,\n",
        "                 callbacks=[StreamingStdOutCallbackHandler()])\n",
        "\n",
        "qa_chain = RetrievalQA.from_chain_type(\n",
        "    llm = llm,\n",
        "    chain_type='stuff',\n",
        "    retriever = result,\n",
        "    return_source_documents=True\n",
        ")"
      ],
      "metadata": {
        "id": "ni-OEhzahwmW"
      },
      "execution_count": null,
      "outputs": []
    },
    {
      "cell_type": "code",
      "source": [
        "response = qa_chain(\"주택청약이 뭐야?\")"
      ],
      "metadata": {
        "colab": {
          "base_uri": "https://localhost:8080/"
        },
        "id": "U-llf_PEifkY",
        "outputId": "65d7efb5-1f28-489a-d252-f9e3a001ec23"
      },
      "execution_count": null,
      "outputs": [
        {
          "output_type": "stream",
          "name": "stdout",
          "text": [
            "주택청약은 주택을 분양받기 위해 신청하는 절차를 말합니다. 주택청약을 통해 신청자는 특정 주택의 분양을 받을 수 있는 기회를 얻습니다. 주택청약은 주로 공공주택이나 민간주택의 분양 시에 이루어지며, 신청자는 일정한 자격 요건을 충족해야 합니다. 예를 들어, 무주택자이거나 일정 소득 이하의 가구 등이 주택청약에 우선권을 가질 수 있습니다.\n",
            "\n",
            "주택청약은 보통 청약통장을 통해 이루어지며, 청약통장에 일정 금액을 예치하고 일정 기간 동안 유지하면 청약 가점이 쌓이게 됩니다. 이 가점은 주택청약 시 당첨 확률을 높이는 데 중요한 역할을 합니다. 주택청약은 주택을 구입하려는 사람들에게 중요한 절차로, 주택 시장에서의 수요와 공급을 조절하는 데에도 중요한 역할을 합니다."
          ]
        }
      ]
    },
    {
      "cell_type": "code",
      "source": [
        "response = qa_chain(\"금리가 오르는 이유는 뭐야?\")"
      ],
      "metadata": {
        "colab": {
          "base_uri": "https://localhost:8080/"
        },
        "id": "nc_NYEqei6XS",
        "outputId": "b0148662-5050-4c07-91f4-46a339117383"
      },
      "execution_count": null,
      "outputs": [
        {
          "output_type": "stream",
          "name": "stdout",
          "text": [
            "금리가 오르는 이유는 여러 가지가 있습니다. 주요 요인들은 다음과 같습니다:\n",
            "\n",
            "1. **통화정책**: 중앙은행이 인플레이션을 억제하거나 경제를 과열되지 않게 하기 위해 정책금리를 인상할 때 금리가 오릅니다. 예를 들어, 한국은행이 정책금리를 인상하면 시장 금리도 따라서 오르게 됩니다.\n",
            "\n",
            "2. **인플레이션 기대**: 시장 참여자들이 향후 인플레이션이 상승할 것으로 예상하면, 금리가 오를 수 있습니다. 이는 인플레이션이 화폐의 가치를 떨어뜨리기 때문에, 대출자들이 더 높은 금리를 요구하게 되기 때문입니다.\n",
            "\n",
            "3. **경제 성장**: 경제가 성장하고 기업의 투자 수요가 증가하면, 자금 수요가 늘어나면서 금리가 오를 수 있습니다. 이는 자금의 수요와 공급 법칙에 따라 자금 수요가 많아지면 금리가 상승하는 결과를 초래합니다.\n",
            "\n",
            "4. **정부의 재정 정책**: 정부가 재정 적자를 메우기 위해 국채를 많이 발행하면, 국채 공급이 증가하면서 금리가 오를 수 있습니다. 이는 국채의 공급이 많아지면 그만큼 금리를 높여야 투자자들이 국채를 매입하기 때문입니다.\n",
            "\n",
            "5. **국제 요인**: 글로벌 경제 상황이나 다른 국가의 금리 변화도 국내 금리에 영향을 미칠 수 있습니다. 예를 들어, 미국 연방준비제도(Fed)가 금리를 인상하면, 다른 나라들도 자본 유출을 막기 위해 금리를 인상할 수 있습니다.\n",
            "\n",
            "이와 같은 요인들이 복합적으로 작용하여 금리가 오르게 됩니다."
          ]
        }
      ]
    },
    {
      "cell_type": "code",
      "source": [
        "!pip install gradio==3.50.2"
      ],
      "metadata": {
        "colab": {
          "base_uri": "https://localhost:8080/"
        },
        "collapsed": true,
        "id": "1zU7SQxkjXnO",
        "outputId": "cb7e0081-6774-42a0-e349-abe8a86f9c1e"
      },
      "execution_count": null,
      "outputs": [
        {
          "output_type": "stream",
          "name": "stdout",
          "text": [
            "Collecting gradio==3.50.2\n",
            "  Downloading gradio-3.50.2-py3-none-any.whl.metadata (17 kB)\n",
            "Collecting aiofiles<24.0,>=22.0 (from gradio==3.50.2)\n",
            "  Downloading aiofiles-23.2.1-py3-none-any.whl.metadata (9.7 kB)\n",
            "Requirement already satisfied: altair<6.0,>=4.2.0 in /usr/local/lib/python3.10/dist-packages (from gradio==3.50.2) (4.2.2)\n",
            "Requirement already satisfied: fastapi in /usr/local/lib/python3.10/dist-packages (from gradio==3.50.2) (0.112.0)\n",
            "Collecting ffmpy (from gradio==3.50.2)\n",
            "  Downloading ffmpy-0.4.0-py3-none-any.whl.metadata (2.9 kB)\n",
            "Collecting gradio-client==0.6.1 (from gradio==3.50.2)\n",
            "  Downloading gradio_client-0.6.1-py3-none-any.whl.metadata (7.1 kB)\n",
            "Requirement already satisfied: httpx in /usr/local/lib/python3.10/dist-packages (from gradio==3.50.2) (0.27.0)\n",
            "Requirement already satisfied: huggingface-hub>=0.14.0 in /usr/local/lib/python3.10/dist-packages (from gradio==3.50.2) (0.23.5)\n",
            "Requirement already satisfied: importlib-resources<7.0,>=1.3 in /usr/local/lib/python3.10/dist-packages (from gradio==3.50.2) (6.4.0)\n",
            "Requirement already satisfied: jinja2<4.0 in /usr/local/lib/python3.10/dist-packages (from gradio==3.50.2) (3.1.4)\n",
            "Requirement already satisfied: markupsafe~=2.0 in /usr/local/lib/python3.10/dist-packages (from gradio==3.50.2) (2.1.5)\n",
            "Requirement already satisfied: matplotlib~=3.0 in /usr/local/lib/python3.10/dist-packages (from gradio==3.50.2) (3.7.1)\n",
            "Requirement already satisfied: numpy~=1.0 in /usr/local/lib/python3.10/dist-packages (from gradio==3.50.2) (1.26.4)\n",
            "Requirement already satisfied: orjson~=3.0 in /usr/local/lib/python3.10/dist-packages (from gradio==3.50.2) (3.10.6)\n",
            "Requirement already satisfied: packaging in /usr/local/lib/python3.10/dist-packages (from gradio==3.50.2) (24.1)\n",
            "Requirement already satisfied: pandas<3.0,>=1.0 in /usr/local/lib/python3.10/dist-packages (from gradio==3.50.2) (2.1.4)\n",
            "Requirement already satisfied: pillow<11.0,>=8.0 in /usr/local/lib/python3.10/dist-packages (from gradio==3.50.2) (9.4.0)\n",
            "Requirement already satisfied: pydantic!=1.8,!=1.8.1,!=2.0.0,!=2.0.1,<3.0.0,>=1.7.4 in /usr/local/lib/python3.10/dist-packages (from gradio==3.50.2) (2.8.2)\n",
            "Collecting pydub (from gradio==3.50.2)\n",
            "  Downloading pydub-0.25.1-py2.py3-none-any.whl.metadata (1.4 kB)\n",
            "Collecting python-multipart (from gradio==3.50.2)\n",
            "  Downloading python_multipart-0.0.9-py3-none-any.whl.metadata (2.5 kB)\n",
            "Requirement already satisfied: pyyaml<7.0,>=5.0 in /usr/local/lib/python3.10/dist-packages (from gradio==3.50.2) (6.0.1)\n",
            "Requirement already satisfied: requests~=2.0 in /usr/local/lib/python3.10/dist-packages (from gradio==3.50.2) (2.31.0)\n",
            "Collecting semantic-version~=2.0 (from gradio==3.50.2)\n",
            "  Downloading semantic_version-2.10.0-py2.py3-none-any.whl.metadata (9.7 kB)\n",
            "Requirement already satisfied: typing-extensions~=4.0 in /usr/local/lib/python3.10/dist-packages (from gradio==3.50.2) (4.12.2)\n",
            "Requirement already satisfied: uvicorn>=0.14.0 in /usr/local/lib/python3.10/dist-packages (from gradio==3.50.2) (0.30.5)\n",
            "Collecting websockets<12.0,>=10.0 (from gradio==3.50.2)\n",
            "  Downloading websockets-11.0.3-cp310-cp310-manylinux_2_5_x86_64.manylinux1_x86_64.manylinux_2_17_x86_64.manylinux2014_x86_64.whl.metadata (6.6 kB)\n",
            "Requirement already satisfied: fsspec in /usr/local/lib/python3.10/dist-packages (from gradio-client==0.6.1->gradio==3.50.2) (2024.6.1)\n",
            "Requirement already satisfied: entrypoints in /usr/local/lib/python3.10/dist-packages (from altair<6.0,>=4.2.0->gradio==3.50.2) (0.4)\n",
            "Requirement already satisfied: jsonschema>=3.0 in /usr/local/lib/python3.10/dist-packages (from altair<6.0,>=4.2.0->gradio==3.50.2) (4.23.0)\n",
            "Requirement already satisfied: toolz in /usr/local/lib/python3.10/dist-packages (from altair<6.0,>=4.2.0->gradio==3.50.2) (0.12.1)\n",
            "Requirement already satisfied: filelock in /usr/local/lib/python3.10/dist-packages (from huggingface-hub>=0.14.0->gradio==3.50.2) (3.15.4)\n",
            "Requirement already satisfied: tqdm>=4.42.1 in /usr/local/lib/python3.10/dist-packages (from huggingface-hub>=0.14.0->gradio==3.50.2) (4.66.4)\n",
            "Requirement already satisfied: contourpy>=1.0.1 in /usr/local/lib/python3.10/dist-packages (from matplotlib~=3.0->gradio==3.50.2) (1.2.1)\n",
            "Requirement already satisfied: cycler>=0.10 in /usr/local/lib/python3.10/dist-packages (from matplotlib~=3.0->gradio==3.50.2) (0.12.1)\n",
            "Requirement already satisfied: fonttools>=4.22.0 in /usr/local/lib/python3.10/dist-packages (from matplotlib~=3.0->gradio==3.50.2) (4.53.1)\n",
            "Requirement already satisfied: kiwisolver>=1.0.1 in /usr/local/lib/python3.10/dist-packages (from matplotlib~=3.0->gradio==3.50.2) (1.4.5)\n",
            "Requirement already satisfied: pyparsing>=2.3.1 in /usr/local/lib/python3.10/dist-packages (from matplotlib~=3.0->gradio==3.50.2) (3.1.2)\n",
            "Requirement already satisfied: python-dateutil>=2.7 in /usr/local/lib/python3.10/dist-packages (from matplotlib~=3.0->gradio==3.50.2) (2.8.2)\n",
            "Requirement already satisfied: pytz>=2020.1 in /usr/local/lib/python3.10/dist-packages (from pandas<3.0,>=1.0->gradio==3.50.2) (2024.1)\n",
            "Requirement already satisfied: tzdata>=2022.1 in /usr/local/lib/python3.10/dist-packages (from pandas<3.0,>=1.0->gradio==3.50.2) (2024.1)\n",
            "Requirement already satisfied: annotated-types>=0.4.0 in /usr/local/lib/python3.10/dist-packages (from pydantic!=1.8,!=1.8.1,!=2.0.0,!=2.0.1,<3.0.0,>=1.7.4->gradio==3.50.2) (0.7.0)\n",
            "Requirement already satisfied: pydantic-core==2.20.1 in /usr/local/lib/python3.10/dist-packages (from pydantic!=1.8,!=1.8.1,!=2.0.0,!=2.0.1,<3.0.0,>=1.7.4->gradio==3.50.2) (2.20.1)\n",
            "Requirement already satisfied: charset-normalizer<4,>=2 in /usr/local/lib/python3.10/dist-packages (from requests~=2.0->gradio==3.50.2) (3.3.2)\n",
            "Requirement already satisfied: idna<4,>=2.5 in /usr/local/lib/python3.10/dist-packages (from requests~=2.0->gradio==3.50.2) (3.7)\n",
            "Requirement already satisfied: urllib3<3,>=1.21.1 in /usr/local/lib/python3.10/dist-packages (from requests~=2.0->gradio==3.50.2) (2.0.7)\n",
            "Requirement already satisfied: certifi>=2017.4.17 in /usr/local/lib/python3.10/dist-packages (from requests~=2.0->gradio==3.50.2) (2024.7.4)\n",
            "Requirement already satisfied: click>=7.0 in /usr/local/lib/python3.10/dist-packages (from uvicorn>=0.14.0->gradio==3.50.2) (8.1.7)\n",
            "Requirement already satisfied: h11>=0.8 in /usr/local/lib/python3.10/dist-packages (from uvicorn>=0.14.0->gradio==3.50.2) (0.14.0)\n",
            "Requirement already satisfied: starlette<0.38.0,>=0.37.2 in /usr/local/lib/python3.10/dist-packages (from fastapi->gradio==3.50.2) (0.37.2)\n",
            "Requirement already satisfied: anyio in /usr/local/lib/python3.10/dist-packages (from httpx->gradio==3.50.2) (3.7.1)\n",
            "Requirement already satisfied: httpcore==1.* in /usr/local/lib/python3.10/dist-packages (from httpx->gradio==3.50.2) (1.0.5)\n",
            "Requirement already satisfied: sniffio in /usr/local/lib/python3.10/dist-packages (from httpx->gradio==3.50.2) (1.3.1)\n",
            "Requirement already satisfied: attrs>=22.2.0 in /usr/local/lib/python3.10/dist-packages (from jsonschema>=3.0->altair<6.0,>=4.2.0->gradio==3.50.2) (23.2.0)\n",
            "Requirement already satisfied: jsonschema-specifications>=2023.03.6 in /usr/local/lib/python3.10/dist-packages (from jsonschema>=3.0->altair<6.0,>=4.2.0->gradio==3.50.2) (2023.12.1)\n",
            "Requirement already satisfied: referencing>=0.28.4 in /usr/local/lib/python3.10/dist-packages (from jsonschema>=3.0->altair<6.0,>=4.2.0->gradio==3.50.2) (0.35.1)\n",
            "Requirement already satisfied: rpds-py>=0.7.1 in /usr/local/lib/python3.10/dist-packages (from jsonschema>=3.0->altair<6.0,>=4.2.0->gradio==3.50.2) (0.19.1)\n",
            "Requirement already satisfied: six>=1.5 in /usr/local/lib/python3.10/dist-packages (from python-dateutil>=2.7->matplotlib~=3.0->gradio==3.50.2) (1.16.0)\n",
            "Requirement already satisfied: exceptiongroup in /usr/local/lib/python3.10/dist-packages (from anyio->httpx->gradio==3.50.2) (1.2.2)\n",
            "Downloading gradio-3.50.2-py3-none-any.whl (20.3 MB)\n",
            "\u001b[2K   \u001b[90m━━━━━━━━━━━━━━━━━━━━━━━━━━━━━━━━━━━━━━━━\u001b[0m \u001b[32m20.3/20.3 MB\u001b[0m \u001b[31m46.5 MB/s\u001b[0m eta \u001b[36m0:00:00\u001b[0m\n",
            "\u001b[?25hDownloading gradio_client-0.6.1-py3-none-any.whl (299 kB)\n",
            "\u001b[2K   \u001b[90m━━━━━━━━━━━━━━━━━━━━━━━━━━━━━━━━━━━━━━━━\u001b[0m \u001b[32m299.2/299.2 kB\u001b[0m \u001b[31m18.2 MB/s\u001b[0m eta \u001b[36m0:00:00\u001b[0m\n",
            "\u001b[?25hDownloading aiofiles-23.2.1-py3-none-any.whl (15 kB)\n",
            "Downloading semantic_version-2.10.0-py2.py3-none-any.whl (15 kB)\n",
            "Downloading websockets-11.0.3-cp310-cp310-manylinux_2_5_x86_64.manylinux1_x86_64.manylinux_2_17_x86_64.manylinux2014_x86_64.whl (129 kB)\n",
            "\u001b[2K   \u001b[90m━━━━━━━━━━━━━━━━━━━━━━━━━━━━━━━━━━━━━━━━\u001b[0m \u001b[32m129.9/129.9 kB\u001b[0m \u001b[31m6.1 MB/s\u001b[0m eta \u001b[36m0:00:00\u001b[0m\n",
            "\u001b[?25hDownloading ffmpy-0.4.0-py3-none-any.whl (5.8 kB)\n",
            "Downloading pydub-0.25.1-py2.py3-none-any.whl (32 kB)\n",
            "Downloading python_multipart-0.0.9-py3-none-any.whl (22 kB)\n",
            "Installing collected packages: pydub, websockets, semantic-version, python-multipart, ffmpy, aiofiles, gradio-client, gradio\n",
            "  Attempting uninstall: websockets\n",
            "    Found existing installation: websockets 12.0\n",
            "    Uninstalling websockets-12.0:\n",
            "      Successfully uninstalled websockets-12.0\n",
            "Successfully installed aiofiles-23.2.1 ffmpy-0.4.0 gradio-3.50.2 gradio-client-0.6.1 pydub-0.25.1 python-multipart-0.0.9 semantic-version-2.10.0 websockets-11.0.3\n"
          ]
        }
      ]
    },
    {
      "cell_type": "code",
      "source": [
        "import gradio as gr\n",
        "\n",
        "with gr.Blocks() as demo:\n",
        "    chatbot = gr.Chatbot(label = \"경제 금융 용어 알려드립니다.\")\n",
        "    message = gr.Textbox(label = \"여기에 질문하세요!\")\n",
        "    clear = gr.Button(\"대화 초기화\")\n",
        "\n",
        "    #이 그리다오 페이지가 실행되었을때 qa_chain에다 메세지를 전달\n",
        "    #chatbot과 나눈 대화를 chat_history에 기억\n",
        "    def respond(mes, chat_history):\n",
        "      result = qa_chain(mes)\n",
        "      bot_message = result['result']\n",
        "\n",
        "      chat_history.append((mes, bot_message))\n",
        "\n",
        "      return \" \", chat_history\n",
        "    #텍스트를 입력했을 때 수행할 내용\n",
        "    message.submit(respond, [message,chatbot], [message, chatbot])\n",
        "\n",
        "    #대화 초기화\n",
        "    #lambda:None -> 클릭했을 때 어떤 행동을 할 것인가?\n",
        "    #None -> Chatbot : 입력도 None -> chatbot에 전달\n",
        "    #None, queue = False -> 이 gradio가 가지고 있는 기존의 메모리를 삭제\n",
        "    clear.click(lambda: None, None, chatbot, queue=False)\n",
        "\n",
        "demo.launch(debug=True)"
      ],
      "metadata": {
        "colab": {
          "base_uri": "https://localhost:8080/",
          "height": 988
        },
        "id": "EF9QJUSPkP88",
        "outputId": "b9fdfaa3-e2b4-4bbc-b082-57f14e54f221"
      },
      "execution_count": null,
      "outputs": [
        {
          "metadata": {
            "tags": null
          },
          "name": "stdout",
          "output_type": "stream",
          "text": [
            "Setting queue=True in a Colab notebook requires sharing enabled. Setting `share=True` (you can turn this off by setting `share=False` in `launch()` explicitly).\n",
            "\n",
            "Colab notebook detected. This cell will run indefinitely so that you can see errors and logs. To turn off, set debug=False in launch().\n",
            "IMPORTANT: You are using gradio version 3.50.2, however version 4.29.0 is available, please upgrade.\n",
            "--------\n",
            "Running on public URL: https://726a011638917bc49f.gradio.live\n",
            "\n",
            "This share link expires in 72 hours. For free permanent hosting and GPU upgrades, run `gradio deploy` from Terminal to deploy to Spaces (https://huggingface.co/spaces)\n"
          ]
        },
        {
          "data": {
            "text/html": [
              "<div><iframe src=\"https://726a011638917bc49f.gradio.live\" width=\"100%\" height=\"500\" allow=\"autoplay; camera; microphone; clipboard-read; clipboard-write;\" frameborder=\"0\" allowfullscreen></iframe></div>"
            ],
            "text/plain": [
              "<IPython.core.display.HTML object>"
            ]
          },
          "metadata": {},
          "output_type": "display_data"
        },
        {
          "metadata": {
            "tags": null
          },
          "name": "stdout",
          "output_type": "stream",
          "text": [
            "비트코인(bitcoin)은 가상통화(암호통화)이자 디지털 지급 시스템입니다. 비트코인 시스템은 중앙 저장소나 단일 관리자가 없기 때문에 최초의 탈중앙화된 디지털 통화로 불립니다. 이는 사토시 나카모토라는 사람(또는 집단)에 의해 만들어져 2009년 개방형 소프트웨어로 배포되었습니다.\n",
            "\n",
            "비트코인 시스템은 공유형(peer-to-peer) 네트워크를 기반으로 하며, 거래는 중개자 없이 블록체인 소프트웨어를 이용하는 참여자(nodes) 사이에 직접 이루어집니다. 거래는 참여자의 작업증명(proof-of-work)을 통해 검증되고, 공개된 분산원장인 블록체인에 기록됩니다. 승인된 거래의 새 그룹인 한 블록은 대략 10분에 한 번씩 만들어져 블록체인에 추가되고, 신속하게 모든 참여자에게 전송됩니다.\n",
            "\n",
            "비트코인은 대규모 전기를 사용하는 컴퓨터 처리 능력을 활용한 채굴(mining)에 대한 보상으로 발행되며, 다른 통화, 상품, 용역 등과 교환될 수 있습니다. 비트코인은 중앙은행이 발행한 법정화폐가 아니며, 비트코인 플랫폼에서 거래되고 투자 대상으로도 관심을 받고 있습니다. 하지만 급등한 가격과 심한 변동성으로 인해 거품 논란이 있으며, 익명성으로 인해 자금세탁 등 불법 거래에 악용될 소지가 있어 일부 국가에서는 비트코인 거래를 규제하고 있습니다.\n",
            "\n",
            "비트코인은 추가되는 한 블록당 새로 12.5 비트코인을 보상하는데, 21만 개가 채굴될 때마다 그 보상이 반으로 줄어듭니다. 비트코인의 총량은 21백만 개로 한정되어 있으며, 2140년경 모두 채굴될 것으로 전망됩니다. 비트코인은 그 수량이 한정되어 있어 인플레이션에 의해 가치가 떨어질 수 있는 화폐와는 다른 속성을 지닙니다.\n",
            "\n",
            "2017년 8월 1일에는 비트코인에서 '비트코인캐시'(BCH)가, 10월 25일에는 '비트코인골드'(BTG)가 하드포크(hard-fork)되어 별도로 거래되고 있습니다.비트코인(bitcoin)은 가상통화(암호통화)이자 디지털 지급 시스템입니다. 비트코인 시스템은 중앙 저장소나 단일 관리자가 없기 때문에 최초의 탈중앙화된 디지털 통화로 불립니다. 이는 사토시 나카모토라는 사람(또는 집단)에 의해 만들어져 2009년 개방형 소프트웨어로 배포되었습니다.\n",
            "\n",
            "비트코인 시스템은 공유형(peer-to-peer) 네트워크를 기반으로 하며, 거래는 중개자 없이 블록체인 소프트웨어를 이용하는 참여자(nodes) 사이에 직접 이루어집니다. 거래는 참여자의 작업증명(proof-of-work)을 통해 검증되고, 공개된 분산원장인 블록체인에 기록됩니다. 승인된 거래의 새 그룹인 한 블록은 대략 10분에 한 번씩 만들어져 블록체인에 추가되고, 신속하게 모든 참여자에게 전송됩니다.\n",
            "\n",
            "비트코인은 대규모 전기를 사용하는 컴퓨터 처리 능력을 활용한 채굴(mining)에 대한 보상으로 발행되며, 다른 통화, 상품, 용역 등과 교환될 수 있습니다. 비트코인은 중앙은행이 발행한 법정화폐가 아니며, 비트코인 플랫폼에서 거래되고 투자 대상으로도 관심을 받고 있습니다. 하지만 급등한 가격과 심한 변동성으로 인해 거품 논란이 있으며, 익명성으로 인해 자금세탁 등 불법 거래에 악용될 소지가 있어 일부 국가에서는 비트코인 거래를 규제하고 있습니다.\n",
            "\n",
            "비트코인은 추가되는 한 블록당 새로 12.5 비트코인을 보상하는데, 21만 개가 채굴될 때마다 그 보상이 반으로 줄어듭니다. 비트코인의 총량은 2100만 개로 한정되어 있으며, 2140년경 모두 채굴될 것으로 전망됩니다. 비트코인은 그 수량이 한정되어 있어 인플레이션에 의해 가치가 떨어질 수 있는 화폐와는 다른 속성을 지닙니다.\n",
            "\n",
            "2017년 8월 1일 비트코인에서 '비트코인캐시'(BCH)가, 10월 25일 '비트코인골드'(BTG)가 하드포크(hard-fork)되어 별도로 거래되고 있습니다."
          ]
        }
      ]
    },
    {
      "cell_type": "code",
      "source": [],
      "metadata": {
        "id": "jkP5h_KJlNkD"
      },
      "execution_count": null,
      "outputs": []
    }
  ]
}